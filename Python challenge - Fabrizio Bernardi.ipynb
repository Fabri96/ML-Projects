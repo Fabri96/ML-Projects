{
 "cells": [
  {
   "cell_type": "markdown",
   "id": "5360620a",
   "metadata": {},
   "source": [
    "## Import libraries and load dataset"
   ]
  },
  {
   "cell_type": "code",
   "execution_count": 1,
   "id": "04773518",
   "metadata": {},
   "outputs": [
    {
     "name": "stderr",
     "output_type": "stream",
     "text": [
      "C:\\Users\\Fabrizio\\anaconda3\\lib\\site-packages\\scipy\\__init__.py:146: UserWarning: A NumPy version >=1.16.5 and <1.23.0 is required for this version of SciPy (detected version 1.26.4\n",
      "  warnings.warn(f\"A NumPy version >={np_minversion} and <{np_maxversion}\"\n"
     ]
    }
   ],
   "source": [
    "import numpy as np\n",
    "import pandas as pd\n",
    "import matplotlib.pyplot as plt\n",
    "from sklearn.preprocessing import LabelEncoder\n",
    "from sklearn.model_selection import train_test_split, cross_val_score\n",
    "from sklearn.svm import SVC\n",
    "from sklearn.naive_bayes import GaussianNB\n",
    "from sklearn.ensemble import RandomForestClassifier\n",
    "from sklearn.metrics import accuracy_score, confusion_matrix\n",
    "from sklearn.preprocessing import StandardScaler\n",
    "from xgboost import XGBClassifier\n",
    "from sklearn.linear_model import LogisticRegression\n",
    "from sklearn import metrics\n",
    "import seaborn as sb\n",
    "from sklearn.metrics import f1_score\n",
    "from sklearn.metrics import precision_score, recall_score"
   ]
  },
  {
   "cell_type": "code",
   "execution_count": 2,
   "id": "8d6a72fe",
   "metadata": {},
   "outputs": [],
   "source": [
    "df = pd.read_csv('C:/Users/Fabrizio/Desktop/marketing_data.csv')"
   ]
  },
  {
   "cell_type": "code",
   "execution_count": 3,
   "id": "a71d1918",
   "metadata": {},
   "outputs": [
    {
     "data": {
      "text/html": [
       "<div>\n",
       "<style scoped>\n",
       "    .dataframe tbody tr th:only-of-type {\n",
       "        vertical-align: middle;\n",
       "    }\n",
       "\n",
       "    .dataframe tbody tr th {\n",
       "        vertical-align: top;\n",
       "    }\n",
       "\n",
       "    .dataframe thead th {\n",
       "        text-align: right;\n",
       "    }\n",
       "</style>\n",
       "<table border=\"1\" class=\"dataframe\">\n",
       "  <thead>\n",
       "    <tr style=\"text-align: right;\">\n",
       "      <th></th>\n",
       "      <th>age</th>\n",
       "      <th>job</th>\n",
       "      <th>marital</th>\n",
       "      <th>education</th>\n",
       "      <th>default</th>\n",
       "      <th>balance</th>\n",
       "      <th>housing</th>\n",
       "      <th>loan</th>\n",
       "      <th>contact</th>\n",
       "      <th>day</th>\n",
       "      <th>month</th>\n",
       "      <th>campaign</th>\n",
       "      <th>pdays</th>\n",
       "      <th>previous</th>\n",
       "      <th>Location</th>\n",
       "      <th>poutcome</th>\n",
       "      <th>y</th>\n",
       "    </tr>\n",
       "  </thead>\n",
       "  <tbody>\n",
       "    <tr>\n",
       "      <th>0</th>\n",
       "      <td>58.0</td>\n",
       "      <td>management</td>\n",
       "      <td>married</td>\n",
       "      <td>tertiary</td>\n",
       "      <td>no</td>\n",
       "      <td>2143</td>\n",
       "      <td>yes</td>\n",
       "      <td>no</td>\n",
       "      <td>unknown</td>\n",
       "      <td>5</td>\n",
       "      <td>may</td>\n",
       "      <td>1</td>\n",
       "      <td>-1</td>\n",
       "      <td>0</td>\n",
       "      <td>Naples</td>\n",
       "      <td>unknown</td>\n",
       "      <td>no</td>\n",
       "    </tr>\n",
       "    <tr>\n",
       "      <th>1</th>\n",
       "      <td>44.0</td>\n",
       "      <td>technician</td>\n",
       "      <td>single</td>\n",
       "      <td>secondary</td>\n",
       "      <td>no</td>\n",
       "      <td>29</td>\n",
       "      <td>yes</td>\n",
       "      <td>no</td>\n",
       "      <td>unknown</td>\n",
       "      <td>5</td>\n",
       "      <td>may</td>\n",
       "      <td>1</td>\n",
       "      <td>-1</td>\n",
       "      <td>0</td>\n",
       "      <td>Firenze</td>\n",
       "      <td>unknown</td>\n",
       "      <td>no</td>\n",
       "    </tr>\n",
       "    <tr>\n",
       "      <th>2</th>\n",
       "      <td>33.0</td>\n",
       "      <td>entrepreneur</td>\n",
       "      <td>married</td>\n",
       "      <td>secondary</td>\n",
       "      <td>no</td>\n",
       "      <td>2</td>\n",
       "      <td>yes</td>\n",
       "      <td>yes</td>\n",
       "      <td>unknown</td>\n",
       "      <td>5</td>\n",
       "      <td>may</td>\n",
       "      <td>1</td>\n",
       "      <td>-1</td>\n",
       "      <td>0</td>\n",
       "      <td>Milano</td>\n",
       "      <td>unknown</td>\n",
       "      <td>no</td>\n",
       "    </tr>\n",
       "    <tr>\n",
       "      <th>3</th>\n",
       "      <td>47.0</td>\n",
       "      <td>blue-collar</td>\n",
       "      <td>married</td>\n",
       "      <td>unknown</td>\n",
       "      <td>no</td>\n",
       "      <td>1506</td>\n",
       "      <td>yes</td>\n",
       "      <td>no</td>\n",
       "      <td>unknown</td>\n",
       "      <td>5</td>\n",
       "      <td>may</td>\n",
       "      <td>1</td>\n",
       "      <td>-1</td>\n",
       "      <td>0</td>\n",
       "      <td>Naples</td>\n",
       "      <td>unknown</td>\n",
       "      <td>no</td>\n",
       "    </tr>\n",
       "    <tr>\n",
       "      <th>4</th>\n",
       "      <td>33.0</td>\n",
       "      <td>unknown</td>\n",
       "      <td>single</td>\n",
       "      <td>unknown</td>\n",
       "      <td>no</td>\n",
       "      <td>1</td>\n",
       "      <td>no</td>\n",
       "      <td>no</td>\n",
       "      <td>unknown</td>\n",
       "      <td>5</td>\n",
       "      <td>may</td>\n",
       "      <td>1</td>\n",
       "      <td>-1</td>\n",
       "      <td>0</td>\n",
       "      <td>Napoli</td>\n",
       "      <td>unknown</td>\n",
       "      <td>no</td>\n",
       "    </tr>\n",
       "  </tbody>\n",
       "</table>\n",
       "</div>"
      ],
      "text/plain": [
       "    age           job  marital  education default  balance housing loan  \\\n",
       "0  58.0    management  married   tertiary      no     2143     yes   no   \n",
       "1  44.0    technician   single  secondary      no       29     yes   no   \n",
       "2  33.0  entrepreneur  married  secondary      no        2     yes  yes   \n",
       "3  47.0   blue-collar  married    unknown      no     1506     yes   no   \n",
       "4  33.0       unknown   single    unknown      no        1      no   no   \n",
       "\n",
       "   contact  day month  campaign  pdays  previous Location poutcome   y  \n",
       "0  unknown    5   may         1     -1         0   Naples  unknown  no  \n",
       "1  unknown    5   may         1     -1         0  Firenze  unknown  no  \n",
       "2  unknown    5   may         1     -1         0   Milano  unknown  no  \n",
       "3  unknown    5   may         1     -1         0   Naples  unknown  no  \n",
       "4  unknown    5   may         1     -1         0   Napoli  unknown  no  "
      ]
     },
     "execution_count": 3,
     "metadata": {},
     "output_type": "execute_result"
    }
   ],
   "source": [
    "df.head()"
   ]
  },
  {
   "cell_type": "code",
   "execution_count": 4,
   "id": "ae44ff6c",
   "metadata": {},
   "outputs": [
    {
     "data": {
      "text/plain": [
       "(43097, 17)"
      ]
     },
     "execution_count": 4,
     "metadata": {},
     "output_type": "execute_result"
    }
   ],
   "source": [
    "df.shape"
   ]
  },
  {
   "cell_type": "markdown",
   "id": "9c106523",
   "metadata": {},
   "source": [
    "## Delete NaN values "
   ]
  },
  {
   "cell_type": "code",
   "execution_count": 5,
   "id": "5ae8b27c",
   "metadata": {},
   "outputs": [
    {
     "data": {
      "text/plain": [
       "age          23\n",
       "job           0\n",
       "marital       0\n",
       "education     0\n",
       "default       0\n",
       "balance       0\n",
       "housing       0\n",
       "loan          0\n",
       "contact      58\n",
       "day           0\n",
       "month         0\n",
       "campaign      0\n",
       "pdays         0\n",
       "previous      0\n",
       "Location      0\n",
       "poutcome     10\n",
       "y             0\n",
       "dtype: int64"
      ]
     },
     "execution_count": 5,
     "metadata": {},
     "output_type": "execute_result"
    }
   ],
   "source": [
    "df.isna().sum()"
   ]
  },
  {
   "cell_type": "code",
   "execution_count": 6,
   "id": "a653ddab",
   "metadata": {},
   "outputs": [],
   "source": [
    "df = df.dropna()"
   ]
  },
  {
   "cell_type": "code",
   "execution_count": 7,
   "id": "f478ebe9",
   "metadata": {},
   "outputs": [
    {
     "data": {
      "text/plain": [
       "age          0\n",
       "job          0\n",
       "marital      0\n",
       "education    0\n",
       "default      0\n",
       "balance      0\n",
       "housing      0\n",
       "loan         0\n",
       "contact      0\n",
       "day          0\n",
       "month        0\n",
       "campaign     0\n",
       "pdays        0\n",
       "previous     0\n",
       "Location     0\n",
       "poutcome     0\n",
       "y            0\n",
       "dtype: int64"
      ]
     },
     "execution_count": 7,
     "metadata": {},
     "output_type": "execute_result"
    }
   ],
   "source": [
    "df.isna().sum()"
   ]
  },
  {
   "cell_type": "code",
   "execution_count": 8,
   "id": "22f75a45",
   "metadata": {},
   "outputs": [
    {
     "data": {
      "text/plain": [
       "(43006, 17)"
      ]
     },
     "execution_count": 8,
     "metadata": {},
     "output_type": "execute_result"
    }
   ],
   "source": [
    "df.shape"
   ]
  },
  {
   "cell_type": "markdown",
   "id": "32b9594f",
   "metadata": {},
   "source": [
    "## Convert binary variables into numeric ones"
   ]
  },
  {
   "cell_type": "code",
   "execution_count": 9,
   "id": "bcdf3e0d",
   "metadata": {},
   "outputs": [],
   "source": [
    "df = df.replace({'yes': 1, 'no': 0})"
   ]
  },
  {
   "cell_type": "markdown",
   "id": "cf188d17",
   "metadata": {},
   "source": [
    "## Let's see alle the features of type \"object\". the goal is to correct mistakes and convert them into numeric features"
   ]
  },
  {
   "cell_type": "code",
   "execution_count": 10,
   "id": "cc09b3b6",
   "metadata": {},
   "outputs": [
    {
     "data": {
      "text/plain": [
       "age          float64\n",
       "job           object\n",
       "marital       object\n",
       "education     object\n",
       "default        int64\n",
       "balance        int64\n",
       "housing        int64\n",
       "loan           int64\n",
       "contact       object\n",
       "day            int64\n",
       "month         object\n",
       "campaign       int64\n",
       "pdays          int64\n",
       "previous       int64\n",
       "Location      object\n",
       "poutcome      object\n",
       "y              int64\n",
       "dtype: object"
      ]
     },
     "execution_count": 10,
     "metadata": {},
     "output_type": "execute_result"
    }
   ],
   "source": [
    "df.dtypes"
   ]
  },
  {
   "cell_type": "code",
   "execution_count": 11,
   "id": "f62cd3a9",
   "metadata": {},
   "outputs": [
    {
     "data": {
      "text/plain": [
       "array(['management', 'technician', 'entrepreneur', 'blue-collar',\n",
       "       'unknown', 'retired', 'admin.', 'services', 'self-employed',\n",
       "       'unemployed', 'housemaid', 'student'], dtype=object)"
      ]
     },
     "execution_count": 11,
     "metadata": {},
     "output_type": "execute_result"
    }
   ],
   "source": [
    "df['job'].unique()"
   ]
  },
  {
   "cell_type": "code",
   "execution_count": 12,
   "id": "703c8383",
   "metadata": {},
   "outputs": [
    {
     "data": {
      "text/plain": [
       "array(['married', 'single', 'divorced', 'divrcd', 'S', 'Singl', 'Single'],\n",
       "      dtype=object)"
      ]
     },
     "execution_count": 12,
     "metadata": {},
     "output_type": "execute_result"
    }
   ],
   "source": [
    "df['marital'].unique()"
   ]
  },
  {
   "cell_type": "markdown",
   "id": "512650b8",
   "metadata": {},
   "source": [
    "## Spelling errors separate  categories which are the same: let's fix it. The category \"S\" is probably a mistake and should be erased"
   ]
  },
  {
   "cell_type": "code",
   "execution_count": 13,
   "id": "17805894",
   "metadata": {},
   "outputs": [],
   "source": [
    "df['marital'] = df['marital'].replace({'divrcd': 'divorced', 'Singl' : 'Single', 'single' : 'Single'})\n",
    "df = df[df['marital'] != 'S']"
   ]
  },
  {
   "cell_type": "code",
   "execution_count": 14,
   "id": "2c43c301",
   "metadata": {},
   "outputs": [
    {
     "data": {
      "text/plain": [
       "array(['married', 'Single', 'divorced'], dtype=object)"
      ]
     },
     "execution_count": 14,
     "metadata": {},
     "output_type": "execute_result"
    }
   ],
   "source": [
    "df['marital'].unique()"
   ]
  },
  {
   "cell_type": "code",
   "execution_count": 15,
   "id": "26296c2b",
   "metadata": {},
   "outputs": [
    {
     "data": {
      "text/plain": [
       "married     26046\n",
       "Single      11972\n",
       "divorced     4949\n",
       "Name: marital, dtype: int64"
      ]
     },
     "execution_count": 15,
     "metadata": {},
     "output_type": "execute_result"
    }
   ],
   "source": [
    "df['marital'].value_counts()"
   ]
  },
  {
   "cell_type": "code",
   "execution_count": 16,
   "id": "09a89d4a",
   "metadata": {},
   "outputs": [
    {
     "data": {
      "text/plain": [
       "array(['unknown', 'cellular', 'telephone'], dtype=object)"
      ]
     },
     "execution_count": 16,
     "metadata": {},
     "output_type": "execute_result"
    }
   ],
   "source": [
    "df['contact'].unique()"
   ]
  },
  {
   "cell_type": "code",
   "execution_count": 17,
   "id": "3fa97b59",
   "metadata": {},
   "outputs": [
    {
     "data": {
      "text/plain": [
       "array(['Naples', 'Firenze', 'Milano', 'Napoli', 'Rome', 'Genoa',\n",
       "       'Barcellona', 'Parigi', 'Milan', 'Bologna', 'Paris', 'London',\n",
       "       'Roma', 'Genova', 'Turin', 'Londra', 'Bolgna', 'Venezia', 'Torino',\n",
       "       'Bari', 'Alessandria', 'Venezoia', 'Florence', 'rome', 'Veneza',\n",
       "       'Lndon'], dtype=object)"
      ]
     },
     "execution_count": 17,
     "metadata": {},
     "output_type": "execute_result"
    }
   ],
   "source": [
    "df['Location'].unique()"
   ]
  },
  {
   "cell_type": "code",
   "execution_count": 18,
   "id": "9c0a65ee",
   "metadata": {},
   "outputs": [],
   "source": [
    "df['Location'] = df['Location'].replace({'Venezoia': 'Venezia', 'Veneza' : 'Venezia','Lndon' : 'Londra', 'London' : 'Londra', 'Turin' : 'Torino', 'Milan' : 'Milano', 'Naples' : 'Napoli', 'Paris' : 'Parigi', 'Florence' : 'Firenze', 'Genoa' : 'Genova', 'rome' : 'Roma', 'Rome' : 'Roma', 'Bolgna' : 'Bologna'})\n"
   ]
  },
  {
   "cell_type": "code",
   "execution_count": 19,
   "id": "f51094c9",
   "metadata": {},
   "outputs": [
    {
     "data": {
      "text/plain": [
       "array(['Napoli', 'Firenze', 'Milano', 'Roma', 'Genova', 'Barcellona',\n",
       "       'Parigi', 'Bologna', 'Londra', 'Torino', 'Venezia', 'Bari',\n",
       "       'Alessandria'], dtype=object)"
      ]
     },
     "execution_count": 19,
     "metadata": {},
     "output_type": "execute_result"
    }
   ],
   "source": [
    "df['Location'].unique()"
   ]
  },
  {
   "cell_type": "code",
   "execution_count": 20,
   "id": "e97a9700",
   "metadata": {},
   "outputs": [
    {
     "data": {
      "text/plain": [
       "array(['unknown', 'failure', 'other', 'success'], dtype=object)"
      ]
     },
     "execution_count": 20,
     "metadata": {},
     "output_type": "execute_result"
    }
   ],
   "source": [
    "df['poutcome'].unique()"
   ]
  },
  {
   "cell_type": "code",
   "execution_count": 21,
   "id": "ac938119",
   "metadata": {},
   "outputs": [
    {
     "data": {
      "text/plain": [
       "array(['tertiary', 'secondary', 'unknown', 'primary'], dtype=object)"
      ]
     },
     "execution_count": 21,
     "metadata": {},
     "output_type": "execute_result"
    }
   ],
   "source": [
    "df['education'].unique()"
   ]
  },
  {
   "cell_type": "code",
   "execution_count": 22,
   "id": "0ea02bf8",
   "metadata": {},
   "outputs": [
    {
     "data": {
      "text/plain": [
       "array(['may', 'jun', 'jul', 'aug', 'oct', 'nov', 'dec', 'jan', 'feb',\n",
       "       'mar', 'apr', 'sep'], dtype=object)"
      ]
     },
     "execution_count": 22,
     "metadata": {},
     "output_type": "execute_result"
    }
   ],
   "source": [
    "df['month'].unique()"
   ]
  },
  {
   "cell_type": "code",
   "execution_count": 23,
   "id": "9b5c245d",
   "metadata": {},
   "outputs": [
    {
     "data": {
      "image/png": "[encoded data removed]",
      "text/plain": [
       "<Figure size 720x576 with 12 Axes>"
      ]
     },
     "metadata": {
      "needs_background": "light"
     },
     "output_type": "display_data"
    }
   ],
   "source": [
    "df.hist(figsize=(10, 8))\n",
    "plt.tight_layout()  \n",
    "plt.show()"
   ]
  },
  {
   "cell_type": "code",
   "execution_count": 24,
   "id": "9b8b6671",
   "metadata": {},
   "outputs": [
    {
     "data": {
      "text/plain": [
       "0    39803\n",
       "1     3164\n",
       "Name: y, dtype: int64"
      ]
     },
     "execution_count": 24,
     "metadata": {},
     "output_type": "execute_result"
    }
   ],
   "source": [
    "df['y'].value_counts()"
   ]
  },
  {
   "cell_type": "code",
   "execution_count": 25,
   "id": "8888bccf",
   "metadata": {},
   "outputs": [
    {
     "data": {
      "text/plain": [
       "0.07949149561590835"
      ]
     },
     "execution_count": 25,
     "metadata": {},
     "output_type": "execute_result"
    }
   ],
   "source": [
    "3164/39803"
   ]
  },
  {
   "cell_type": "markdown",
   "id": "bdcd8482",
   "metadata": {},
   "source": [
    "## Remark: we are dealing with unblanced datasets, accuracy alone might not be a good representative for the classification model"
   ]
  },
  {
   "cell_type": "code",
   "execution_count": null,
   "id": "158a1503",
   "metadata": {},
   "outputs": [],
   "source": []
  },
  {
   "cell_type": "code",
   "execution_count": 26,
   "id": "ecce4ff8",
   "metadata": {},
   "outputs": [
    {
     "data": {
      "image/png": "[encoded data removed]",
      "text/plain": [
       "<Figure size 720x720 with 1 Axes>"
      ]
     },
     "metadata": {
      "needs_background": "light"
     },
     "output_type": "display_data"
    }
   ],
   "source": [
    "plt.figure(figsize=(10,10))\n",
    "sb.heatmap(df.corr() > 0.8, annot=True, cbar=False)\n",
    "plt.show()"
   ]
  },
  {
   "cell_type": "markdown",
   "id": "b6a785d0",
   "metadata": {},
   "source": [
    "## No highly correlated variables seem to be present. remove outliers:"
   ]
  },
  {
   "cell_type": "code",
   "execution_count": 27,
   "id": "75cf1cb6",
   "metadata": {},
   "outputs": [
    {
     "data": {
      "image/png": "[encoded data removed]",
      "text/plain": [
       "<Figure size 720x432 with 1 Axes>"
      ]
     },
     "metadata": {
      "needs_background": "light"
     },
     "output_type": "display_data"
    }
   ],
   "source": [
    "df[['campaign']].boxplot(figsize=(10, 6))\n",
    "plt.show()"
   ]
  },
  {
   "cell_type": "code",
   "execution_count": 28,
   "id": "c0f2dc11",
   "metadata": {},
   "outputs": [
    {
     "data": {
      "text/plain": [
       "2.799287825540531"
      ]
     },
     "execution_count": 28,
     "metadata": {},
     "output_type": "execute_result"
    }
   ],
   "source": [
    "np.mean(df['campaign'])"
   ]
  },
  {
   "cell_type": "code",
   "execution_count": 29,
   "id": "2b36d196",
   "metadata": {},
   "outputs": [],
   "source": [
    "df = df[(df['campaign'] <8)]"
   ]
  },
  {
   "cell_type": "code",
   "execution_count": 30,
   "id": "7bdf1338",
   "metadata": {},
   "outputs": [
    {
     "data": {
      "image/png": "[encoded data removed]",
      "text/plain": [
       "<Figure size 720x432 with 1 Axes>"
      ]
     },
     "metadata": {
      "needs_background": "light"
     },
     "output_type": "display_data"
    }
   ],
   "source": [
    "df[['age']].boxplot(figsize=(10, 6))\n",
    "plt.show()"
   ]
  },
  {
   "cell_type": "code",
   "execution_count": 31,
   "id": "b56208a5",
   "metadata": {},
   "outputs": [],
   "source": [
    "df = df[(df['campaign'] <70)]"
   ]
  },
  {
   "cell_type": "code",
   "execution_count": 32,
   "id": "453a4e6e",
   "metadata": {},
   "outputs": [
    {
     "data": {
      "image/png": "[encoded data removed]",
      "text/plain": [
       "<Figure size 720x432 with 1 Axes>"
      ]
     },
     "metadata": {
      "needs_background": "light"
     },
     "output_type": "display_data"
    }
   ],
   "source": [
    "df[['balance']].boxplot(figsize=(10, 6))\n",
    "plt.show()"
   ]
  },
  {
   "cell_type": "code",
   "execution_count": 33,
   "id": "0eb6ee57",
   "metadata": {},
   "outputs": [],
   "source": [
    "df = df[(df['balance'] <= 3000) & (df['balance'] >= -1500)]\n"
   ]
  },
  {
   "cell_type": "code",
   "execution_count": 34,
   "id": "a59aa61e",
   "metadata": {},
   "outputs": [
    {
     "data": {
      "text/plain": [
       "(35626, 17)"
      ]
     },
     "execution_count": 34,
     "metadata": {},
     "output_type": "execute_result"
    }
   ],
   "source": [
    "df.shape"
   ]
  },
  {
   "cell_type": "markdown",
   "id": "e1a9224a",
   "metadata": {},
   "source": [
    "## Let's drop features not helpful for the prediction:"
   ]
  },
  {
   "cell_type": "code",
   "execution_count": 35,
   "id": "a3ddbecc",
   "metadata": {},
   "outputs": [],
   "source": [
    "df = df.drop(columns=['contact','month','day','pdays'])"
   ]
  },
  {
   "cell_type": "markdown",
   "id": "48790f10",
   "metadata": {},
   "source": [
    "## Convert into dummies to deal only with numerical variables:"
   ]
  },
  {
   "cell_type": "code",
   "execution_count": 36,
   "id": "77051328",
   "metadata": {},
   "outputs": [],
   "source": [
    "encoded_df = pd.get_dummies(df[['job','marital','Location','poutcome','education']], drop_first=True)"
   ]
  },
  {
   "cell_type": "code",
   "execution_count": 37,
   "id": "e0ab0816",
   "metadata": {},
   "outputs": [],
   "source": [
    "df = pd.concat([df.drop(['job','marital','Location','poutcome','education'], axis=1), encoded_df], axis=1)"
   ]
  },
  {
   "cell_type": "code",
   "execution_count": 38,
   "id": "d2c713d3",
   "metadata": {},
   "outputs": [
    {
     "data": {
      "text/plain": [
       "age                    float64\n",
       "default                  int64\n",
       "balance                  int64\n",
       "housing                  int64\n",
       "loan                     int64\n",
       "campaign                 int64\n",
       "previous                 int64\n",
       "y                        int64\n",
       "job_blue-collar          uint8\n",
       "job_entrepreneur         uint8\n",
       "job_housemaid            uint8\n",
       "job_management           uint8\n",
       "job_retired              uint8\n",
       "job_self-employed        uint8\n",
       "job_services             uint8\n",
       "job_student              uint8\n",
       "job_technician           uint8\n",
       "job_unemployed           uint8\n",
       "job_unknown              uint8\n",
       "marital_divorced         uint8\n",
       "marital_married          uint8\n",
       "Location_Barcellona      uint8\n",
       "Location_Bari            uint8\n",
       "Location_Bologna         uint8\n",
       "Location_Firenze         uint8\n",
       "Location_Genova          uint8\n",
       "Location_Londra          uint8\n",
       "Location_Milano          uint8\n",
       "Location_Napoli          uint8\n",
       "Location_Parigi          uint8\n",
       "Location_Roma            uint8\n",
       "Location_Torino          uint8\n",
       "Location_Venezia         uint8\n",
       "poutcome_other           uint8\n",
       "poutcome_success         uint8\n",
       "poutcome_unknown         uint8\n",
       "education_secondary      uint8\n",
       "education_tertiary       uint8\n",
       "education_unknown        uint8\n",
       "dtype: object"
      ]
     },
     "execution_count": 38,
     "metadata": {},
     "output_type": "execute_result"
    }
   ],
   "source": [
    "df.dtypes"
   ]
  },
  {
   "cell_type": "markdown",
   "id": "de62ed5e",
   "metadata": {},
   "source": [
    "## Let's split into train/test and normalize data:"
   ]
  },
  {
   "cell_type": "code",
   "execution_count": 51,
   "id": "aa81d88b",
   "metadata": {},
   "outputs": [],
   "source": [
    "X = df.drop(columns = ['y']).values\n",
    "y= df['y'].values\n",
    "\n",
    "X_train, X_test, y_train, y_test = train_test_split(X, y, test_size=0.25, random_state=3)\n",
    "\n",
    "scaler = StandardScaler()\n",
    "\n",
    "X_train = scaler.fit_transform(X_train) \n",
    "X_test = scaler.transform(X_test) "
   ]
  },
  {
   "cell_type": "code",
   "execution_count": 40,
   "id": "020363f3",
   "metadata": {},
   "outputs": [
    {
     "name": "stdout",
     "output_type": "stream",
     "text": [
      "Requirement already satisfied: imbalanced-learn in c:\\users\\fabrizio\\anaconda3\\lib\\site-packages (0.11.0)\n",
      "Requirement already satisfied: scikit-learn>=1.0.2 in c:\\users\\fabrizio\\anaconda3\\lib\\site-packages (from imbalanced-learn) (1.0.2)\n",
      "Requirement already satisfied: scipy>=1.5.0 in c:\\users\\fabrizio\\anaconda3\\lib\\site-packages (from imbalanced-learn) (1.7.3)\n",
      "Requirement already satisfied: threadpoolctl>=2.0.0 in c:\\users\\fabrizio\\anaconda3\\lib\\site-packages (from imbalanced-learn) (2.2.0)\n",
      "Requirement already satisfied: numpy>=1.17.3 in c:\\users\\fabrizio\\anaconda3\\lib\\site-packages (from imbalanced-learn) (1.26.4)\n",
      "Collecting joblib>=1.1.1\n",
      "  Downloading joblib-1.3.2-py3-none-any.whl (302 kB)\n",
      "Collecting numpy>=1.17.3\n",
      "  Using cached numpy-1.22.4-cp39-cp39-win_amd64.whl (14.7 MB)Note: you may need to restart the kernel to use updated packages.\n",
      "\n"
     ]
    },
    {
     "name": "stderr",
     "output_type": "stream",
     "text": [
      "ERROR: Could not install packages due to an OSError: [WinError 5] Accesso negato: 'C:\\\\Users\\\\Fabrizio\\\\AppData\\\\Local\\\\Temp\\\\pip-uninstall-k7nm0sci\\\\numpy\\\\core\\\\_multiarray_tests.cp39-win_amd64.pyd'\n",
      "Consider using the `--user` option or check the permissions.\n",
      "\n"
     ]
    },
    {
     "name": "stdout",
     "output_type": "stream",
     "text": [
      "Installing collected packages: numpy, joblib\n",
      "  Attempting uninstall: numpy\n",
      "    Found existing installation: numpy 1.26.4\n",
      "    Uninstalling numpy-1.26.4:\n",
      "      Successfully uninstalled numpy-1.26.4\n"
     ]
    }
   ],
   "source": [
    "pip install imbalanced-learn"
   ]
  },
  {
   "cell_type": "code",
   "execution_count": 41,
   "id": "98c46b57",
   "metadata": {},
   "outputs": [],
   "source": [
    "from imblearn.over_sampling import SMOTE\n",
    "\n",
    "smote = SMOTE(random_state=42)\n",
    "\n",
    "X_train, y_train = smote.fit_resample(X_train, y_train)\n"
   ]
  },
  {
   "cell_type": "code",
   "execution_count": 42,
   "id": "24d3b54e",
   "metadata": {},
   "outputs": [
    {
     "data": {
      "text/plain": [
       "(46264, 38)"
      ]
     },
     "execution_count": 42,
     "metadata": {},
     "output_type": "execute_result"
    }
   ],
   "source": [
    "X_train.shape"
   ]
  },
  {
   "cell_type": "code",
   "execution_count": 43,
   "id": "331d4888",
   "metadata": {},
   "outputs": [
    {
     "data": {
      "text/plain": [
       "(10688, 38)"
      ]
     },
     "execution_count": 43,
     "metadata": {},
     "output_type": "execute_result"
    }
   ],
   "source": [
    "X_test.shape"
   ]
  },
  {
   "cell_type": "code",
   "execution_count": 47,
   "id": "b7e85fcd",
   "metadata": {},
   "outputs": [
    {
     "data": {
      "text/plain": [
       "23132"
      ]
     },
     "execution_count": 47,
     "metadata": {},
     "output_type": "execute_result"
    }
   ],
   "source": [
    "np.sum(y_train==0)"
   ]
  },
  {
   "cell_type": "markdown",
   "id": "b1e2157c",
   "metadata": {},
   "source": [
    "## Let's try 3 classifier models: Logistic regression, gradient boosting and random forrest:"
   ]
  },
  {
   "cell_type": "code",
   "execution_count": 53,
   "id": "6d06d7e2",
   "metadata": {},
   "outputs": [
    {
     "name": "stdout",
     "output_type": "stream",
     "text": [
      "Best Parameters: {'min_samples_leaf': 2, 'min_samples_split': 5, 'n_estimators': 100}\n",
      "Test F1 Score after Hyperparameter Tuning: 0.3100936524453694\n"
     ]
    }
   ],
   "source": [
    "from sklearn.model_selection import GridSearchCV\n",
    "\n",
    "param_grid = {\n",
    "    'n_estimators': [50, 100],\n",
    "    'min_samples_split': [2, 5],\n",
    "    'min_samples_leaf': [1, 2]\n",
    "}\n",
    "\n",
    "class_weight = {0: 1, 1: 12}  \n",
    "rf_classifier = RandomForestClassifier(class_weight = class_weight,random_state=42)\n",
    "\n",
    "grid_search = GridSearchCV(rf_classifier, param_grid, cv=5, scoring='f1')\n",
    "\n",
    "grid_search.fit(X_train, y_train)\n",
    "\n",
    "best_params = grid_search.best_params_\n",
    "print(\"Best Parameters:\", best_params)\n",
    "\n",
    "best_rf_classifier = grid_search.best_estimator_\n",
    "\n",
    "y_pred_test = best_rf_classifier.predict(X_test)\n",
    "test_f1_score = f1_score(y_test, y_pred_test)\n",
    "print(\"Test F1 Score after Hyperparameter Tuning:\", test_f1_score) \n"
   ]
  },
  {
   "cell_type": "code",
   "execution_count": 56,
   "id": "555731c0",
   "metadata": {},
   "outputs": [
    {
     "data": {
      "text/plain": [
       "0.9255641630178512"
      ]
     },
     "execution_count": 56,
     "metadata": {},
     "output_type": "execute_result"
    }
   ],
   "source": [
    "accuracy_score(y_test, y_pred_test)"
   ]
  },
  {
   "cell_type": "code",
   "execution_count": null,
   "id": "44e3550b",
   "metadata": {},
   "outputs": [],
   "source": [
    "models = [LogisticRegression(), XGBClassifier(),RandomForestClassifier()]\n",
    "\n",
    "acc_test = []\n",
    "\n",
    "acc_train = []\n",
    "\n",
    "f1_test = []\n",
    "\n",
    "f1_train = []\n",
    "\n",
    "\n",
    "for model in models:\n",
    "    \n",
    "    model.fit(X_train, y_train)\n",
    "    \n",
    "    predictions = model.predict(X_test)\n",
    "    \n",
    "    acc_train.append(accuracy_score(model.predict(X_train), y_train))\n",
    "\n",
    "    acc_test.append(accuracy_score(predictions, y_test))\n",
    "    \n",
    "    f1_train.append(f1_score(model.predict(X_train), y_train))\n",
    "\n",
    "    f1_test.append(f1_score(predictions, y_test))\n",
    "    \n",
    "\n",
    "print(\" TRAINING ACCURACY \" ,acc_train)\n",
    "\n",
    "print(\" VALIDATION ACCURACY \" ,acc_test)\n",
    "\n",
    "\n",
    "print(\" TRAINING F1 \" ,f1_train)\n",
    "\n",
    "print(\" VALIDATION F1 \" ,f1_test)"
   ]
  },
  {
   "cell_type": "code",
   "execution_count": 48,
   "id": "04d1e777",
   "metadata": {},
   "outputs": [
    {
     "name": "stdout",
     "output_type": "stream",
     "text": [
      "Accuracy (Train): [0.6677979177737379, 0.9456387521855826, 0.9516475207279032]\n",
      "Accuracy (Test): [0.7171594311377245, 0.9270209580838323, 0.9161676646706587]\n",
      "F1 Score (Train): [0.6498153957360933, 0.9367793731465989, 0.9470561020107919]\n",
      "F1 Score (Test): [0.22823589481746234, 0.20408163265306123, 0.22891566265060243]\n"
     ]
    }
   ],
   "source": [
    "models = [LogisticRegression(), XGBClassifier(), RandomForestClassifier()]\n",
    "\n",
    "acc_train = []\n",
    "acc_test = []\n",
    "f1_train = []\n",
    "f1_test = []\n",
    "\n",
    "\n",
    "\n",
    "for model in models:\n",
    "    acc_scores = cross_val_score(model, X_train, y_train, cv=5, scoring='accuracy')\n",
    "    \n",
    "    f1_scores = cross_val_score(model, X_train, y_train, cv=5, scoring='f1')\n",
    "    \n",
    "    acc_train.append(acc_scores.mean())\n",
    "    f1_train.append(f1_scores.mean())\n",
    "\n",
    "    model.fit(X_train, y_train)\n",
    "\n",
    "    predictions = model.predict(X_test)\n",
    "\n",
    "    acc_test.append(accuracy_score(predictions, y_test))\n",
    "    f1_test.append(f1_score(predictions, y_test))\n",
    "\n",
    "print(\"Accuracy (Train):\", acc_train)\n",
    "print(\"Accuracy (Test):\", acc_test)\n",
    "print(\"F1 Score (Train):\", f1_train)\n",
    "print(\"F1 Score (Test):\", f1_test)"
   ]
  },
  {
   "cell_type": "code",
   "execution_count": null,
   "id": "ca799bcd",
   "metadata": {},
   "outputs": [],
   "source": [
    "from sklearn.model_selection import GridSearchCV\n",
    "from sklearn.metrics import f1_score\n",
    "\n",
    "ìmodels = [\n",
    "    (LogisticRegression(class_weight=class_weight), {'C': [0.1, 1, 10]}),\n",
    "    (XGBClassifier(), {'learning_rate': [0.1, 0.01], 'max_depth': [3, 5]}),\n",
    "    (RandomForestClassifier(), {'n_estimators': [50, 100, 200]})\n",
    "]\n",
    "\n",
    "acc_test = []\n",
    "acc_train = []\n",
    "f1_test = []\n",
    "f1_train = []\n",
    "\n",
    "for model, param_grid in models:\n",
    "    grid_search = GridSearchCV(estimator=model, param_grid=param_grid, scoring='f1', cv=5)\n",
    "    grid_search.fit(X_train, y_train)\n",
    "\n",
    "    best_model = grid_search.best_estimator_\n",
    "\n",
    "    best_model.fit(X_train, y_train)\n",
    "    \n",
    "    predictions = best_model.predict(X_test)\n",
    "\n",
    "    acc_train.append(accuracy_score(best_model.predict(X_train), y_train))\n",
    "    acc_test.append(accuracy_score(predictions, y_test))\n",
    "\n",
    "    f1_train.append(f1_score(best_model.predict(X_train), y_train))\n",
    "    f1_test.append(f1_score(predictions, y_test))\n",
    "\n",
    "print(\"TRAINING ACCURACY:\", acc_train)\n",
    "print(\"VALIDATION ACCURACY:\", acc_test)\n",
    "print(\"TRAINING F1:\", f1_train)\n",
    "print(\"VALIDATION F1:\", f1_test)\n"
   ]
  },
  {
   "cell_type": "code",
   "execution_count": null,
   "id": "d47f76f1",
   "metadata": {},
   "outputs": [],
   "source": [
    "import tensorflow as tf\n",
    "from tensorflow.keras.models import Sequential\n",
    "from tensorflow.keras.layers import Dense, Dropout\n",
    "\n",
    "class_weight = {0: 1, 1: 2}  \n",
    "\n",
    "model = Sequential([\n",
    "    Dense(128, activation='relu', input_shape=(X_train.shape[1],)),\n",
    "    Dropout(0.5), \n",
    "    Dense(64, activation='relu'),\n",
    "    Dropout(0.5),\n",
    "    Dense(1, activation='sigmoid')  \n",
    "])\n",
    "\n",
    "model.compile(optimizer='adam', loss='binary_crossentropy', metrics=['accuracy'])\n",
    "\n",
    "history = model.fit(X_train, y_train, epochs=10, batch_size=32, validation_split=0.2, class_weight=class_weight)\n",
    "\n",
    "loss, accuracy = model.evaluate(X_test, y_test)\n",
    "print(\"Test Loss:\", loss)\n",
    "print(\"Test Accuracy:\", accuracy)\n"
   ]
  },
  {
   "cell_type": "code",
   "execution_count": null,
   "id": "22745388",
   "metadata": {},
   "outputs": [],
   "source": [
    "import numpy as np\n",
    "import matplotlib.pyplot as plt\n",
    "from sklearn.metrics import confusion_matrix\n",
    "\n",
    "y_pred = model.predict(X_test)\n",
    "y_pred = (y_pred > 0.5)  \n",
    "\n",
    "conf_matrix = confusion_matrix(y_test, y_pred)\n",
    "\n",
    "plt.figure(figsize=(8, 6))\n",
    "plt.imshow(conf_matrix, cmap=plt.cm.Blues)\n",
    "plt.title('Confusion Matrix')\n",
    "plt.colorbar()\n",
    "\n",
    "classes = ['No Subscription', 'Subscription']\n",
    "tick_marks = np.arange(len(classes))\n",
    "\n",
    "plt.xticks(tick_marks, classes)\n",
    "plt.yticks(tick_marks, classes)\n",
    "\n",
    "thresh = conf_matrix.max() / 2.\n",
    "for i in range(conf_matrix.shape[0]):\n",
    "    for j in range(conf_matrix.shape[1]):\n",
    "        plt.text(j, i, format(conf_matrix[i, j], 'd'),\n",
    "                 horizontalalignment=\"center\",\n",
    "                 color=\"white\" if conf_matrix[i, j] > thresh else \"black\")\n",
    "\n",
    "plt.ylabel('True label')\n",
    "plt.xlabel('Predicted label')\n",
    "plt.tight_layout()\n",
    "plt.show()\n"
   ]
  },
  {
   "cell_type": "code",
   "execution_count": 58,
   "id": "c692f5c0",
   "metadata": {},
   "outputs": [
    {
     "name": "stderr",
     "output_type": "stream",
     "text": [
      "C:\\Users\\Fabrizio\\anaconda3\\lib\\site-packages\\sklearn\\utils\\deprecation.py:87: FutureWarning: Function plot_confusion_matrix is deprecated; Function `plot_confusion_matrix` is deprecated in 1.0 and will be removed in 1.2. Use one of the class methods: ConfusionMatrixDisplay.from_predictions or ConfusionMatrixDisplay.from_estimator.\n",
      "  warnings.warn(msg, category=FutureWarning)\n"
     ]
    },
    {
     "data": {
      "image/png": "[encoded data removed]",
      "text/plain": [
       "<Figure size 432x288 with 2 Axes>"
      ]
     },
     "metadata": {
      "needs_background": "light"
     },
     "output_type": "display_data"
    }
   ],
   "source": [
    "metrics.plot_confusion_matrix(best_rf_classifier, X_test, y_test)\n",
    "plt.show()"
   ]
  },
  {
   "cell_type": "markdown",
   "id": "613e9d29",
   "metadata": {},
   "source": [
    "## The model accuracy is high, but the less represented class is still not predicted very good: this is indicated by the difference between accuracy and f1-score, such as from the confusion matrix. We would need more data to improve results. Suggestions can be also to try to imrpvoe feature selection or extraction, and to use weighted models."
   ]
  },
  {
   "cell_type": "code",
   "execution_count": null,
   "id": "ebf80940",
   "metadata": {},
   "outputs": [],
   "source": []
  },
  {
   "cell_type": "markdown",
   "id": "45a7b661",
   "metadata": {},
   "source": [
    "# NLP\n",
    "\n",
    "Disclaimer: I never worked for or seriously studied this field. As far as I know, NLP is a subfield of Artificial intelligence which wants to make computers understand language data, such as text.\n",
    "The required task should go under the area of Sentiment analysis. I have only saw it briefly on my own as implemented in  the package nltk, but I admit I never studied the theory behind. I also have some familiarity with methods to infer about a word importance in documents such as TF-IDF.\n"
   ]
  },
  {
   "cell_type": "code",
   "execution_count": null,
   "id": "150604e3",
   "metadata": {},
   "outputs": [],
   "source": []
  }
 ],
 "metadata": {
  "kernelspec": {
   "display_name": "Python 3 (ipykernel)",
   "language": "python",
   "name": "python3"
  },
  "language_info": {
   "codemirror_mode": {
    "name": "ipython",
    "version": 3
   },
   "file_extension": ".py",
   "mimetype": "text/x-python",
   "name": "python",
   "nbconvert_exporter": "python",
   "pygments_lexer": "ipython3",
   "version": "3.9.12"
  }
 },
 "nbformat": 4,
 "nbformat_minor": 5
}
