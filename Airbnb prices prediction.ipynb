{
 "cells": [
  {
   "cell_type": "code",
   "execution_count": null,
   "id": "cd6ef749",
   "metadata": {},
   "outputs": [],
   "source": []
  },
  {
   "cell_type": "code",
   "execution_count": 1,
   "id": "b24596e1",
   "metadata": {},
   "outputs": [
    {
     "name": "stderr",
     "output_type": "stream",
     "text": [
      "C:\\Users\\Fabrizio\\anaconda3\\lib\\site-packages\\scipy\\__init__.py:146: UserWarning: A NumPy version >=1.16.5 and <1.23.0 is required for this version of SciPy (detected version 1.26.4\n",
      "  warnings.warn(f\"A NumPy version >={np_minversion} and <{np_maxversion}\"\n"
     ]
    }
   ],
   "source": [
    "import numpy as np\n",
    "import pandas as pd\n",
    "import matplotlib.pyplot as plt\n",
    "from sklearn.preprocessing import LabelEncoder\n",
    "from sklearn.model_selection import train_test_split, cross_val_score\n",
    "from sklearn.svm import SVC\n",
    "from sklearn.ensemble import RandomForestClassifier\n",
    "from sklearn.metrics import accuracy_score, confusion_matrix\n",
    "from sklearn.preprocessing import StandardScaler\n",
    "from sklearn.linear_model import LogisticRegression\n",
    "from sklearn.ensemble import RandomForestRegressor \n",
    "from sklearn.linear_model import LinearRegression\n",
    "from xgboost import XGBRegressor \n",
    "from sklearn import metrics\n",
    "import seaborn as sb\n",
    "from sklearn.metrics import mean_squared_error as mse \n",
    "from tqdm import tqdm\n",
    "\n"
   ]
  },
  {
   "cell_type": "code",
   "execution_count": 2,
   "id": "c1ec773f",
   "metadata": {},
   "outputs": [
    {
     "data": {
      "text/html": [
       "<div>\n",
       "<style scoped>\n",
       "    .dataframe tbody tr th:only-of-type {\n",
       "        vertical-align: middle;\n",
       "    }\n",
       "\n",
       "    .dataframe tbody tr th {\n",
       "        vertical-align: top;\n",
       "    }\n",
       "\n",
       "    .dataframe thead th {\n",
       "        text-align: right;\n",
       "    }\n",
       "</style>\n",
       "<table border=\"1\" class=\"dataframe\">\n",
       "  <thead>\n",
       "    <tr style=\"text-align: right;\">\n",
       "      <th></th>\n",
       "      <th>id</th>\n",
       "      <th>name</th>\n",
       "      <th>host_id</th>\n",
       "      <th>host_name</th>\n",
       "      <th>neighbourhood_group</th>\n",
       "      <th>neighbourhood</th>\n",
       "      <th>latitude</th>\n",
       "      <th>longitude</th>\n",
       "      <th>room_type</th>\n",
       "      <th>price</th>\n",
       "      <th>...</th>\n",
       "      <th>last_review</th>\n",
       "      <th>reviews_per_month</th>\n",
       "      <th>calculated_host_listings_count</th>\n",
       "      <th>availability_365</th>\n",
       "      <th>number_of_reviews_ltm</th>\n",
       "      <th>license</th>\n",
       "      <th>rating</th>\n",
       "      <th>bedrooms</th>\n",
       "      <th>beds</th>\n",
       "      <th>baths</th>\n",
       "    </tr>\n",
       "  </thead>\n",
       "  <tbody>\n",
       "    <tr>\n",
       "      <th>0</th>\n",
       "      <td>1312228</td>\n",
       "      <td>Rental unit in Brooklyn · ★5.0 · 1 bedroom</td>\n",
       "      <td>7130382</td>\n",
       "      <td>Walter</td>\n",
       "      <td>Brooklyn</td>\n",
       "      <td>Clinton Hill</td>\n",
       "      <td>40.683710</td>\n",
       "      <td>-73.964610</td>\n",
       "      <td>Private room</td>\n",
       "      <td>55.0</td>\n",
       "      <td>...</td>\n",
       "      <td>2015-12-20</td>\n",
       "      <td>0.03</td>\n",
       "      <td>1</td>\n",
       "      <td>0</td>\n",
       "      <td>0</td>\n",
       "      <td>No License</td>\n",
       "      <td>5.0</td>\n",
       "      <td>1</td>\n",
       "      <td>1</td>\n",
       "      <td>Not specified</td>\n",
       "    </tr>\n",
       "    <tr>\n",
       "      <th>1</th>\n",
       "      <td>45277537</td>\n",
       "      <td>Rental unit in New York · ★4.67 · 2 bedrooms ·...</td>\n",
       "      <td>51501835</td>\n",
       "      <td>Jeniffer</td>\n",
       "      <td>Manhattan</td>\n",
       "      <td>Hell's Kitchen</td>\n",
       "      <td>40.766610</td>\n",
       "      <td>-73.988100</td>\n",
       "      <td>Entire home/apt</td>\n",
       "      <td>144.0</td>\n",
       "      <td>...</td>\n",
       "      <td>2023-05-01</td>\n",
       "      <td>0.24</td>\n",
       "      <td>139</td>\n",
       "      <td>364</td>\n",
       "      <td>2</td>\n",
       "      <td>No License</td>\n",
       "      <td>4.67</td>\n",
       "      <td>2</td>\n",
       "      <td>1</td>\n",
       "      <td>1</td>\n",
       "    </tr>\n",
       "    <tr>\n",
       "      <th>2</th>\n",
       "      <td>971353993633883038</td>\n",
       "      <td>Rental unit in New York · ★4.17 · 1 bedroom · ...</td>\n",
       "      <td>528871354</td>\n",
       "      <td>Joshua</td>\n",
       "      <td>Manhattan</td>\n",
       "      <td>Chelsea</td>\n",
       "      <td>40.750764</td>\n",
       "      <td>-73.994605</td>\n",
       "      <td>Entire home/apt</td>\n",
       "      <td>187.0</td>\n",
       "      <td>...</td>\n",
       "      <td>2023-12-18</td>\n",
       "      <td>1.67</td>\n",
       "      <td>1</td>\n",
       "      <td>343</td>\n",
       "      <td>6</td>\n",
       "      <td>Exempt</td>\n",
       "      <td>4.17</td>\n",
       "      <td>1</td>\n",
       "      <td>2</td>\n",
       "      <td>1</td>\n",
       "    </tr>\n",
       "    <tr>\n",
       "      <th>3</th>\n",
       "      <td>3857863</td>\n",
       "      <td>Rental unit in New York · ★4.64 · 1 bedroom · ...</td>\n",
       "      <td>19902271</td>\n",
       "      <td>John And Catherine</td>\n",
       "      <td>Manhattan</td>\n",
       "      <td>Washington Heights</td>\n",
       "      <td>40.835600</td>\n",
       "      <td>-73.942500</td>\n",
       "      <td>Private room</td>\n",
       "      <td>120.0</td>\n",
       "      <td>...</td>\n",
       "      <td>2023-09-17</td>\n",
       "      <td>1.38</td>\n",
       "      <td>2</td>\n",
       "      <td>363</td>\n",
       "      <td>12</td>\n",
       "      <td>No License</td>\n",
       "      <td>4.64</td>\n",
       "      <td>1</td>\n",
       "      <td>1</td>\n",
       "      <td>1</td>\n",
       "    </tr>\n",
       "    <tr>\n",
       "      <th>4</th>\n",
       "      <td>40896611</td>\n",
       "      <td>Condo in New York · ★4.91 · Studio · 1 bed · 1...</td>\n",
       "      <td>61391963</td>\n",
       "      <td>Stay With Vibe</td>\n",
       "      <td>Manhattan</td>\n",
       "      <td>Murray Hill</td>\n",
       "      <td>40.751120</td>\n",
       "      <td>-73.978600</td>\n",
       "      <td>Entire home/apt</td>\n",
       "      <td>85.0</td>\n",
       "      <td>...</td>\n",
       "      <td>2023-12-03</td>\n",
       "      <td>0.24</td>\n",
       "      <td>133</td>\n",
       "      <td>335</td>\n",
       "      <td>3</td>\n",
       "      <td>No License</td>\n",
       "      <td>4.91</td>\n",
       "      <td>Studio</td>\n",
       "      <td>1</td>\n",
       "      <td>1</td>\n",
       "    </tr>\n",
       "  </tbody>\n",
       "</table>\n",
       "<p>5 rows × 22 columns</p>\n",
       "</div>"
      ],
      "text/plain": [
       "                   id                                               name  \\\n",
       "0             1312228         Rental unit in Brooklyn · ★5.0 · 1 bedroom   \n",
       "1            45277537  Rental unit in New York · ★4.67 · 2 bedrooms ·...   \n",
       "2  971353993633883038  Rental unit in New York · ★4.17 · 1 bedroom · ...   \n",
       "3             3857863  Rental unit in New York · ★4.64 · 1 bedroom · ...   \n",
       "4            40896611  Condo in New York · ★4.91 · Studio · 1 bed · 1...   \n",
       "\n",
       "     host_id           host_name neighbourhood_group       neighbourhood  \\\n",
       "0    7130382              Walter            Brooklyn        Clinton Hill   \n",
       "1   51501835            Jeniffer           Manhattan      Hell's Kitchen   \n",
       "2  528871354              Joshua           Manhattan             Chelsea   \n",
       "3   19902271  John And Catherine           Manhattan  Washington Heights   \n",
       "4   61391963      Stay With Vibe           Manhattan         Murray Hill   \n",
       "\n",
       "    latitude  longitude        room_type  price  ...  last_review  \\\n",
       "0  40.683710 -73.964610     Private room   55.0  ...   2015-12-20   \n",
       "1  40.766610 -73.988100  Entire home/apt  144.0  ...   2023-05-01   \n",
       "2  40.750764 -73.994605  Entire home/apt  187.0  ...   2023-12-18   \n",
       "3  40.835600 -73.942500     Private room  120.0  ...   2023-09-17   \n",
       "4  40.751120 -73.978600  Entire home/apt   85.0  ...   2023-12-03   \n",
       "\n",
       "   reviews_per_month calculated_host_listings_count  availability_365  \\\n",
       "0               0.03                              1                 0   \n",
       "1               0.24                            139               364   \n",
       "2               1.67                              1               343   \n",
       "3               1.38                              2               363   \n",
       "4               0.24                            133               335   \n",
       "\n",
       "   number_of_reviews_ltm     license  rating bedrooms beds          baths  \n",
       "0                      0  No License    5.0         1    1  Not specified  \n",
       "1                      2  No License   4.67         2    1              1  \n",
       "2                      6      Exempt   4.17         1    2              1  \n",
       "3                     12  No License   4.64         1    1              1  \n",
       "4                      3  No License   4.91    Studio    1              1  \n",
       "\n",
       "[5 rows x 22 columns]"
      ]
     },
     "execution_count": 2,
     "metadata": {},
     "output_type": "execute_result"
    }
   ],
   "source": [
    "df = pd.read_csv('C:/Users/Fabrizio/Desktop/datasets_ML/airbnb.csv')\n",
    "\n",
    "df.head()"
   ]
  },
  {
   "cell_type": "code",
   "execution_count": 3,
   "id": "14f4f94b",
   "metadata": {},
   "outputs": [
    {
     "data": {
      "text/plain": [
       "(20758, 22)"
      ]
     },
     "execution_count": 3,
     "metadata": {},
     "output_type": "execute_result"
    }
   ],
   "source": [
    "df.shape"
   ]
  },
  {
   "cell_type": "code",
   "execution_count": 4,
   "id": "1f753b0b",
   "metadata": {},
   "outputs": [
    {
     "data": {
      "text/plain": [
       "Index(['id', 'name', 'host_id', 'host_name', 'neighbourhood_group',\n",
       "       'neighbourhood', 'latitude', 'longitude', 'room_type', 'price',\n",
       "       'minimum_nights', 'number_of_reviews', 'last_review',\n",
       "       'reviews_per_month', 'calculated_host_listings_count',\n",
       "       'availability_365', 'number_of_reviews_ltm', 'license', 'rating',\n",
       "       'bedrooms', 'beds', 'baths'],\n",
       "      dtype='object')"
      ]
     },
     "execution_count": 4,
     "metadata": {},
     "output_type": "execute_result"
    }
   ],
   "source": [
    "df.columns"
   ]
  },
  {
   "cell_type": "code",
   "execution_count": 5,
   "id": "c4bd0e43",
   "metadata": {},
   "outputs": [
    {
     "data": {
      "text/plain": [
       "id                                0\n",
       "name                              0\n",
       "host_id                           0\n",
       "host_name                         0\n",
       "neighbourhood_group               0\n",
       "neighbourhood                     0\n",
       "latitude                          0\n",
       "longitude                         0\n",
       "room_type                         0\n",
       "price                             0\n",
       "minimum_nights                    0\n",
       "number_of_reviews                 0\n",
       "last_review                       0\n",
       "reviews_per_month                 0\n",
       "calculated_host_listings_count    0\n",
       "availability_365                  0\n",
       "number_of_reviews_ltm             0\n",
       "license                           0\n",
       "rating                            0\n",
       "bedrooms                          0\n",
       "beds                              0\n",
       "baths                             0\n",
       "dtype: int64"
      ]
     },
     "execution_count": 5,
     "metadata": {},
     "output_type": "execute_result"
    }
   ],
   "source": [
    "df.isna().sum()"
   ]
  },
  {
   "cell_type": "markdown",
   "id": "f2be1be2",
   "metadata": {},
   "source": [
    "Let's drop features which are not useful for the price prediction:"
   ]
  },
  {
   "cell_type": "code",
   "execution_count": 6,
   "id": "af93a146",
   "metadata": {},
   "outputs": [],
   "source": [
    "df = df.drop(columns = ['id', 'name', 'host_id', 'host_name','latitude', 'longitude','license','neighbourhood'])"
   ]
  },
  {
   "cell_type": "code",
   "execution_count": 7,
   "id": "9949f30a",
   "metadata": {},
   "outputs": [
    {
     "data": {
      "text/html": [
       "<div>\n",
       "<style scoped>\n",
       "    .dataframe tbody tr th:only-of-type {\n",
       "        vertical-align: middle;\n",
       "    }\n",
       "\n",
       "    .dataframe tbody tr th {\n",
       "        vertical-align: top;\n",
       "    }\n",
       "\n",
       "    .dataframe thead th {\n",
       "        text-align: right;\n",
       "    }\n",
       "</style>\n",
       "<table border=\"1\" class=\"dataframe\">\n",
       "  <thead>\n",
       "    <tr style=\"text-align: right;\">\n",
       "      <th></th>\n",
       "      <th>neighbourhood_group</th>\n",
       "      <th>room_type</th>\n",
       "      <th>price</th>\n",
       "      <th>minimum_nights</th>\n",
       "      <th>number_of_reviews</th>\n",
       "      <th>last_review</th>\n",
       "      <th>reviews_per_month</th>\n",
       "      <th>calculated_host_listings_count</th>\n",
       "      <th>availability_365</th>\n",
       "      <th>number_of_reviews_ltm</th>\n",
       "      <th>rating</th>\n",
       "      <th>bedrooms</th>\n",
       "      <th>beds</th>\n",
       "      <th>baths</th>\n",
       "    </tr>\n",
       "  </thead>\n",
       "  <tbody>\n",
       "    <tr>\n",
       "      <th>0</th>\n",
       "      <td>Brooklyn</td>\n",
       "      <td>Private room</td>\n",
       "      <td>55.0</td>\n",
       "      <td>30</td>\n",
       "      <td>3</td>\n",
       "      <td>2015-12-20</td>\n",
       "      <td>0.03</td>\n",
       "      <td>1</td>\n",
       "      <td>0</td>\n",
       "      <td>0</td>\n",
       "      <td>5.0</td>\n",
       "      <td>1</td>\n",
       "      <td>1</td>\n",
       "      <td>Not specified</td>\n",
       "    </tr>\n",
       "    <tr>\n",
       "      <th>1</th>\n",
       "      <td>Manhattan</td>\n",
       "      <td>Entire home/apt</td>\n",
       "      <td>144.0</td>\n",
       "      <td>30</td>\n",
       "      <td>9</td>\n",
       "      <td>2023-05-01</td>\n",
       "      <td>0.24</td>\n",
       "      <td>139</td>\n",
       "      <td>364</td>\n",
       "      <td>2</td>\n",
       "      <td>4.67</td>\n",
       "      <td>2</td>\n",
       "      <td>1</td>\n",
       "      <td>1</td>\n",
       "    </tr>\n",
       "    <tr>\n",
       "      <th>2</th>\n",
       "      <td>Manhattan</td>\n",
       "      <td>Entire home/apt</td>\n",
       "      <td>187.0</td>\n",
       "      <td>2</td>\n",
       "      <td>6</td>\n",
       "      <td>2023-12-18</td>\n",
       "      <td>1.67</td>\n",
       "      <td>1</td>\n",
       "      <td>343</td>\n",
       "      <td>6</td>\n",
       "      <td>4.17</td>\n",
       "      <td>1</td>\n",
       "      <td>2</td>\n",
       "      <td>1</td>\n",
       "    </tr>\n",
       "    <tr>\n",
       "      <th>3</th>\n",
       "      <td>Manhattan</td>\n",
       "      <td>Private room</td>\n",
       "      <td>120.0</td>\n",
       "      <td>30</td>\n",
       "      <td>156</td>\n",
       "      <td>2023-09-17</td>\n",
       "      <td>1.38</td>\n",
       "      <td>2</td>\n",
       "      <td>363</td>\n",
       "      <td>12</td>\n",
       "      <td>4.64</td>\n",
       "      <td>1</td>\n",
       "      <td>1</td>\n",
       "      <td>1</td>\n",
       "    </tr>\n",
       "    <tr>\n",
       "      <th>4</th>\n",
       "      <td>Manhattan</td>\n",
       "      <td>Entire home/apt</td>\n",
       "      <td>85.0</td>\n",
       "      <td>30</td>\n",
       "      <td>11</td>\n",
       "      <td>2023-12-03</td>\n",
       "      <td>0.24</td>\n",
       "      <td>133</td>\n",
       "      <td>335</td>\n",
       "      <td>3</td>\n",
       "      <td>4.91</td>\n",
       "      <td>Studio</td>\n",
       "      <td>1</td>\n",
       "      <td>1</td>\n",
       "    </tr>\n",
       "  </tbody>\n",
       "</table>\n",
       "</div>"
      ],
      "text/plain": [
       "  neighbourhood_group        room_type  price  minimum_nights  \\\n",
       "0            Brooklyn     Private room   55.0              30   \n",
       "1           Manhattan  Entire home/apt  144.0              30   \n",
       "2           Manhattan  Entire home/apt  187.0               2   \n",
       "3           Manhattan     Private room  120.0              30   \n",
       "4           Manhattan  Entire home/apt   85.0              30   \n",
       "\n",
       "   number_of_reviews last_review  reviews_per_month  \\\n",
       "0                  3  2015-12-20               0.03   \n",
       "1                  9  2023-05-01               0.24   \n",
       "2                  6  2023-12-18               1.67   \n",
       "3                156  2023-09-17               1.38   \n",
       "4                 11  2023-12-03               0.24   \n",
       "\n",
       "   calculated_host_listings_count  availability_365  number_of_reviews_ltm  \\\n",
       "0                               1                 0                      0   \n",
       "1                             139               364                      2   \n",
       "2                               1               343                      6   \n",
       "3                               2               363                     12   \n",
       "4                             133               335                      3   \n",
       "\n",
       "  rating bedrooms  beds          baths  \n",
       "0   5.0         1     1  Not specified  \n",
       "1  4.67         2     1              1  \n",
       "2  4.17         1     2              1  \n",
       "3  4.64         1     1              1  \n",
       "4  4.91    Studio     1              1  "
      ]
     },
     "execution_count": 7,
     "metadata": {},
     "output_type": "execute_result"
    }
   ],
   "source": [
    "df.head()"
   ]
  },
  {
   "cell_type": "code",
   "execution_count": 8,
   "id": "029a37a5",
   "metadata": {},
   "outputs": [
    {
     "name": "stdout",
     "output_type": "stream",
     "text": [
      "neighbourhood_group\n",
      "room_type\n",
      "last_review\n",
      "rating\n",
      "bedrooms\n",
      "baths\n"
     ]
    }
   ],
   "source": [
    "for col in df.columns:\n",
    "    \n",
    "    if(df[col].dtypes == 'object'):\n",
    "        print(col)"
   ]
  },
  {
   "cell_type": "markdown",
   "id": "2d911ab0",
   "metadata": {},
   "source": [
    "The features rating, bedrooms, baths should be numeric but they aren't. let's check why:"
   ]
  },
  {
   "cell_type": "code",
   "execution_count": 9,
   "id": "78bf1dac",
   "metadata": {},
   "outputs": [
    {
     "data": {
      "text/plain": [
       "array(['1', '2', 'Studio', '3', '6', '5', '4', '7', '15', '9', '8', '14'],\n",
       "      dtype=object)"
      ]
     },
     "execution_count": 9,
     "metadata": {},
     "output_type": "execute_result"
    }
   ],
   "source": [
    "df['bedrooms'].unique()"
   ]
  },
  {
   "cell_type": "markdown",
   "id": "b45993d9",
   "metadata": {},
   "source": [
    "The category Studio is included in number of bedrooms. Let's try to put it arbitrarely to a numeric value which makes sense given the typical squared meters of a Studio: between one bedroom and two bedroom apartment."
   ]
  },
  {
   "cell_type": "code",
   "execution_count": 10,
   "id": "a552da8f",
   "metadata": {},
   "outputs": [],
   "source": [
    "df.loc[df['bedrooms'] == 'Studio', 'bedrooms'] = 1.5"
   ]
  },
  {
   "cell_type": "code",
   "execution_count": 11,
   "id": "cd1f231f",
   "metadata": {},
   "outputs": [],
   "source": [
    "df['bedrooms'] = df['bedrooms'].astype(float)"
   ]
  },
  {
   "cell_type": "code",
   "execution_count": 12,
   "id": "ba630feb",
   "metadata": {},
   "outputs": [
    {
     "data": {
      "text/plain": [
       "array([ 1. ,  2. ,  1.5,  3. ,  6. ,  5. ,  4. ,  7. , 15. ,  9. ,  8. ,\n",
       "       14. ])"
      ]
     },
     "execution_count": 12,
     "metadata": {},
     "output_type": "execute_result"
    }
   ],
   "source": [
    "df['bedrooms'].unique()"
   ]
  },
  {
   "cell_type": "code",
   "execution_count": 13,
   "id": "49ee8407",
   "metadata": {},
   "outputs": [
    {
     "data": {
      "text/plain": [
       "array(['Not specified', '1', '2', '1.5', '3', '4', '3.5', '0', '2.5', '5',\n",
       "       '4.5', '6', '5.5', '11.5', '6.5', '7', '15.5'], dtype=object)"
      ]
     },
     "execution_count": 13,
     "metadata": {},
     "output_type": "execute_result"
    }
   ],
   "source": [
    "df['baths'].unique()"
   ]
  },
  {
   "cell_type": "code",
   "execution_count": 14,
   "id": "7dbd83da",
   "metadata": {},
   "outputs": [
    {
     "data": {
      "text/plain": [
       "13"
      ]
     },
     "execution_count": 14,
     "metadata": {},
     "output_type": "execute_result"
    }
   ],
   "source": [
    "(df['baths']=='Not specified').sum()"
   ]
  },
  {
   "cell_type": "markdown",
   "id": "58341074",
   "metadata": {},
   "source": [
    "Sometimes number of bathrooms is not specified. Since this is a very rare event, let's just drop the cases where this happen from our dataset:"
   ]
  },
  {
   "cell_type": "code",
   "execution_count": 15,
   "id": "b78c7e36",
   "metadata": {},
   "outputs": [],
   "source": [
    "to_be_deleted_indices = df.loc[df['baths']=='Not specified'].index"
   ]
  },
  {
   "cell_type": "code",
   "execution_count": 16,
   "id": "e0e56516",
   "metadata": {},
   "outputs": [],
   "source": [
    "df.drop(to_be_deleted_indices, inplace=True)\n",
    "\n",
    "df.reset_index(drop=True, inplace=True)"
   ]
  },
  {
   "cell_type": "code",
   "execution_count": 17,
   "id": "3dd7c122",
   "metadata": {},
   "outputs": [
    {
     "data": {
      "text/plain": [
       "0"
      ]
     },
     "execution_count": 17,
     "metadata": {},
     "output_type": "execute_result"
    }
   ],
   "source": [
    "(df['baths']=='Not specified').sum()"
   ]
  },
  {
   "cell_type": "code",
   "execution_count": 18,
   "id": "55ecad9e",
   "metadata": {},
   "outputs": [],
   "source": [
    "df['baths'] = df['baths'].astype(float)"
   ]
  },
  {
   "cell_type": "code",
   "execution_count": 19,
   "id": "dbc96a15",
   "metadata": {},
   "outputs": [
    {
     "data": {
      "text/plain": [
       "array(['4.67 ', '4.17 ', '4.64 ', '4.91 ', '5.0 ', '4.33 ', '4.50 ',\n",
       "       '4.79 ', 'No rating', '4.71 ', '3.20 ', '4.80 ', '4.65 ', '4.75 ',\n",
       "       '4.89 ', '4.43 ', '4.82 ', '4.69 ', '4.11 ', '4.90 ', '4.74 ',\n",
       "       '4.87 ', '3.67 ', '4.94 ', '4.66 ', '4.58 ', '4.95 ', '4.78 ',\n",
       "       '4.83 ', '4.73 ', '4.53 ', '4.15 ', '4.45 ', '4.46 ', '4.86 ',\n",
       "       '4.42 ', '4.81 ', '3.84 ', '4.27 ', '4.21 ', '4.93 ', '4.61 ',\n",
       "       '4.77 ', '4.40 ', '4.76 ', '4.70 ', '4.60 ', '4.96 ', '4.56 ',\n",
       "       '3.60 ', '3.0 ', '3.82 ', '4.92 ', '4.85 ', '4.0 ', '4.97 ',\n",
       "       '4.63 ', '4.38 ', '4.72 ', '4.25 ', '4.68 ', '4.99 ', '4.20 ',\n",
       "       '4.54 ', '4.88 ', '4.59 ', '4.57 ', '4.18 ', '4.62 ', 'New ',\n",
       "       '4.98 ', '3.33 ', '4.29 ', '3.40 ', '4.44 ', '4.36 ', '3.75 ',\n",
       "       '4.22 ', '4.55 ', '4.26 ', '3.92 ', '4.30 ', '4.12 ', '4.06 ',\n",
       "       '4.51 ', '2.33 ', '4.84 ', '4.47 ', '4.39 ', '4.41 ', '4.35 ',\n",
       "       '3.88 ', '3.86 ', '4.07 ', '4.52 ', '4.49 ', '4.23 ', '4.31 ',\n",
       "       '4.13 ', '3.50 ', '3.80 ', '4.32 ', '3.79 ', '4.19 ', '4.16 ',\n",
       "       '2.83 ', '4.48 ', '3.71 ', '3.36 ', '4.14 ', '3.25 ', '3.89 ',\n",
       "       '4.10 ', '4.09 ', '4.04 ', '3.38 ', '3.83 ', '3.93 ', '4.24 ',\n",
       "       '3.96 ', '3.57 ', '4.03 ', '3.17 ', '3.63 ', '4.05 ', '3.78 ',\n",
       "       '4.08 ', '4.34 ', '3.26 ', '2.50 ', '3.94 ', '4.28 ', '4.37 ',\n",
       "       '3.29 ', '3.64 ', '3.43 ', '3.90 ', '3.73 ', '3.42 ', '3.91 ',\n",
       "       '3.81 ', '4.02 ', '2.0 ', '2.67 ', '3.97 ', '3.27 ', '2.88 ',\n",
       "       '3.13 ', '2.80 ', '2.25 ', '3.95 ', '2.40 ', '2.89 ', '3.55 ',\n",
       "       '3.85 ', '1.75 ', '3.58 ', '3.22 ', '3.77 ', '3.65 ', '3.87 ',\n",
       "       '2.75 '], dtype=object)"
      ]
     },
     "execution_count": 19,
     "metadata": {},
     "output_type": "execute_result"
    }
   ],
   "source": [
    "df['rating'].unique()\n"
   ]
  },
  {
   "cell_type": "code",
   "execution_count": 20,
   "id": "cd63352f",
   "metadata": {},
   "outputs": [
    {
     "data": {
      "text/plain": [
       "3589"
      ]
     },
     "execution_count": 20,
     "metadata": {},
     "output_type": "execute_result"
    }
   ],
   "source": [
    "(df['rating']=='No rating').sum()"
   ]
  },
  {
   "cell_type": "markdown",
   "id": "41d45f90",
   "metadata": {},
   "source": [
    "The number of apartment without rating, instead, is too high to drop all these cases. let's try 2 strategies:\n",
    "\n",
    "\n",
    "1) Replace the missing values with the mean of all ratings\n",
    "\n",
    "2) Apply KNN to infer the missing values based on the other predictions"
   ]
  },
  {
   "cell_type": "markdown",
   "id": "77b7f10d",
   "metadata": {},
   "source": [
    "First, let's use one hot encoder for the categorical variables"
   ]
  },
  {
   "cell_type": "code",
   "execution_count": 21,
   "id": "eb550a0a",
   "metadata": {},
   "outputs": [
    {
     "data": {
      "text/plain": [
       "(5,)"
      ]
     },
     "execution_count": 21,
     "metadata": {},
     "output_type": "execute_result"
    }
   ],
   "source": [
    "df['neighbourhood_group'].unique().shape"
   ]
  },
  {
   "cell_type": "code",
   "execution_count": 22,
   "id": "6f1ef623",
   "metadata": {},
   "outputs": [
    {
     "data": {
      "text/html": [
       "<div>\n",
       "<style scoped>\n",
       "    .dataframe tbody tr th:only-of-type {\n",
       "        vertical-align: middle;\n",
       "    }\n",
       "\n",
       "    .dataframe tbody tr th {\n",
       "        vertical-align: top;\n",
       "    }\n",
       "\n",
       "    .dataframe thead th {\n",
       "        text-align: right;\n",
       "    }\n",
       "</style>\n",
       "<table border=\"1\" class=\"dataframe\">\n",
       "  <thead>\n",
       "    <tr style=\"text-align: right;\">\n",
       "      <th></th>\n",
       "      <th>room_type</th>\n",
       "      <th>price</th>\n",
       "      <th>minimum_nights</th>\n",
       "      <th>number_of_reviews</th>\n",
       "      <th>last_review</th>\n",
       "      <th>reviews_per_month</th>\n",
       "      <th>calculated_host_listings_count</th>\n",
       "      <th>availability_365</th>\n",
       "      <th>number_of_reviews_ltm</th>\n",
       "      <th>rating</th>\n",
       "      <th>bedrooms</th>\n",
       "      <th>beds</th>\n",
       "      <th>baths</th>\n",
       "      <th>encoded_Bronx</th>\n",
       "      <th>encoded_Brooklyn</th>\n",
       "      <th>encoded_Manhattan</th>\n",
       "      <th>encoded_Queens</th>\n",
       "      <th>encoded_Staten Island</th>\n",
       "    </tr>\n",
       "  </thead>\n",
       "  <tbody>\n",
       "    <tr>\n",
       "      <th>0</th>\n",
       "      <td>Entire home/apt</td>\n",
       "      <td>144.0</td>\n",
       "      <td>30</td>\n",
       "      <td>9</td>\n",
       "      <td>2023-05-01</td>\n",
       "      <td>0.24</td>\n",
       "      <td>139</td>\n",
       "      <td>364</td>\n",
       "      <td>2</td>\n",
       "      <td>4.67</td>\n",
       "      <td>2.0</td>\n",
       "      <td>1</td>\n",
       "      <td>1.0</td>\n",
       "      <td>0</td>\n",
       "      <td>0</td>\n",
       "      <td>1</td>\n",
       "      <td>0</td>\n",
       "      <td>0</td>\n",
       "    </tr>\n",
       "    <tr>\n",
       "      <th>1</th>\n",
       "      <td>Entire home/apt</td>\n",
       "      <td>187.0</td>\n",
       "      <td>2</td>\n",
       "      <td>6</td>\n",
       "      <td>2023-12-18</td>\n",
       "      <td>1.67</td>\n",
       "      <td>1</td>\n",
       "      <td>343</td>\n",
       "      <td>6</td>\n",
       "      <td>4.17</td>\n",
       "      <td>1.0</td>\n",
       "      <td>2</td>\n",
       "      <td>1.0</td>\n",
       "      <td>0</td>\n",
       "      <td>0</td>\n",
       "      <td>1</td>\n",
       "      <td>0</td>\n",
       "      <td>0</td>\n",
       "    </tr>\n",
       "    <tr>\n",
       "      <th>2</th>\n",
       "      <td>Private room</td>\n",
       "      <td>120.0</td>\n",
       "      <td>30</td>\n",
       "      <td>156</td>\n",
       "      <td>2023-09-17</td>\n",
       "      <td>1.38</td>\n",
       "      <td>2</td>\n",
       "      <td>363</td>\n",
       "      <td>12</td>\n",
       "      <td>4.64</td>\n",
       "      <td>1.0</td>\n",
       "      <td>1</td>\n",
       "      <td>1.0</td>\n",
       "      <td>0</td>\n",
       "      <td>0</td>\n",
       "      <td>1</td>\n",
       "      <td>0</td>\n",
       "      <td>0</td>\n",
       "    </tr>\n",
       "    <tr>\n",
       "      <th>3</th>\n",
       "      <td>Entire home/apt</td>\n",
       "      <td>85.0</td>\n",
       "      <td>30</td>\n",
       "      <td>11</td>\n",
       "      <td>2023-12-03</td>\n",
       "      <td>0.24</td>\n",
       "      <td>133</td>\n",
       "      <td>335</td>\n",
       "      <td>3</td>\n",
       "      <td>4.91</td>\n",
       "      <td>1.5</td>\n",
       "      <td>1</td>\n",
       "      <td>1.0</td>\n",
       "      <td>0</td>\n",
       "      <td>0</td>\n",
       "      <td>1</td>\n",
       "      <td>0</td>\n",
       "      <td>0</td>\n",
       "    </tr>\n",
       "    <tr>\n",
       "      <th>4</th>\n",
       "      <td>Entire home/apt</td>\n",
       "      <td>115.0</td>\n",
       "      <td>30</td>\n",
       "      <td>5</td>\n",
       "      <td>2023-07-29</td>\n",
       "      <td>0.16</td>\n",
       "      <td>139</td>\n",
       "      <td>276</td>\n",
       "      <td>2</td>\n",
       "      <td>5.0</td>\n",
       "      <td>1.0</td>\n",
       "      <td>1</td>\n",
       "      <td>1.0</td>\n",
       "      <td>0</td>\n",
       "      <td>0</td>\n",
       "      <td>1</td>\n",
       "      <td>0</td>\n",
       "      <td>0</td>\n",
       "    </tr>\n",
       "  </tbody>\n",
       "</table>\n",
       "</div>"
      ],
      "text/plain": [
       "         room_type  price  minimum_nights  number_of_reviews last_review  \\\n",
       "0  Entire home/apt  144.0              30                  9  2023-05-01   \n",
       "1  Entire home/apt  187.0               2                  6  2023-12-18   \n",
       "2     Private room  120.0              30                156  2023-09-17   \n",
       "3  Entire home/apt   85.0              30                 11  2023-12-03   \n",
       "4  Entire home/apt  115.0              30                  5  2023-07-29   \n",
       "\n",
       "   reviews_per_month  calculated_host_listings_count  availability_365  \\\n",
       "0               0.24                             139               364   \n",
       "1               1.67                               1               343   \n",
       "2               1.38                               2               363   \n",
       "3               0.24                             133               335   \n",
       "4               0.16                             139               276   \n",
       "\n",
       "   number_of_reviews_ltm rating  bedrooms  beds  baths  encoded_Bronx  \\\n",
       "0                      2  4.67        2.0     1    1.0              0   \n",
       "1                      6  4.17        1.0     2    1.0              0   \n",
       "2                     12  4.64        1.0     1    1.0              0   \n",
       "3                      3  4.91        1.5     1    1.0              0   \n",
       "4                      2   5.0        1.0     1    1.0              0   \n",
       "\n",
       "   encoded_Brooklyn  encoded_Manhattan  encoded_Queens  encoded_Staten Island  \n",
       "0                 0                  1               0                      0  \n",
       "1                 0                  1               0                      0  \n",
       "2                 0                  1               0                      0  \n",
       "3                 0                  1               0                      0  \n",
       "4                 0                  1               0                      0  "
      ]
     },
     "execution_count": 22,
     "metadata": {},
     "output_type": "execute_result"
    }
   ],
   "source": [
    "encoded_columns = pd.get_dummies(df['neighbourhood_group'], prefix='encoded')\n",
    "\n",
    "# Add the encoded columns to the dataset\n",
    "df = pd.concat([df, encoded_columns], axis=1)\n",
    "\n",
    "# Drop the original column\n",
    "df.drop(columns=['neighbourhood_group'], inplace=True)\n",
    "\n",
    "df.head()"
   ]
  },
  {
   "cell_type": "markdown",
   "id": "8d5fecf4",
   "metadata": {},
   "source": [
    "For the room type we can use label encoder, giving increasing values for increasing room quality:"
   ]
  },
  {
   "cell_type": "code",
   "execution_count": 23,
   "id": "16546e5b",
   "metadata": {},
   "outputs": [
    {
     "data": {
      "text/plain": [
       "array(['Entire home/apt', 'Private room', 'Hotel room', 'Shared room'],\n",
       "      dtype=object)"
      ]
     },
     "execution_count": 23,
     "metadata": {},
     "output_type": "execute_result"
    }
   ],
   "source": [
    "df['room_type'].unique()"
   ]
  },
  {
   "cell_type": "code",
   "execution_count": 24,
   "id": "a41259d8",
   "metadata": {},
   "outputs": [],
   "source": [
    "encoded_dictionary = {'Shared room' : 0 , 'Private room':1, 'Hotel room':2, 'Entire home/apt':3}"
   ]
  },
  {
   "cell_type": "code",
   "execution_count": 25,
   "id": "3599da13",
   "metadata": {},
   "outputs": [],
   "source": [
    "df['room_type'] = df['room_type'].replace(encoded_dictionary)"
   ]
  },
  {
   "cell_type": "markdown",
   "id": "d5e6cdc7",
   "metadata": {},
   "source": [
    "Finally, we split the date of last review into 3 columns for year, month and day"
   ]
  },
  {
   "cell_type": "code",
   "execution_count": 26,
   "id": "c686d7e8",
   "metadata": {},
   "outputs": [
    {
     "data": {
      "text/html": [
       "<div>\n",
       "<style scoped>\n",
       "    .dataframe tbody tr th:only-of-type {\n",
       "        vertical-align: middle;\n",
       "    }\n",
       "\n",
       "    .dataframe tbody tr th {\n",
       "        vertical-align: top;\n",
       "    }\n",
       "\n",
       "    .dataframe thead th {\n",
       "        text-align: right;\n",
       "    }\n",
       "</style>\n",
       "<table border=\"1\" class=\"dataframe\">\n",
       "  <thead>\n",
       "    <tr style=\"text-align: right;\">\n",
       "      <th></th>\n",
       "      <th>room_type</th>\n",
       "      <th>price</th>\n",
       "      <th>minimum_nights</th>\n",
       "      <th>number_of_reviews</th>\n",
       "      <th>reviews_per_month</th>\n",
       "      <th>calculated_host_listings_count</th>\n",
       "      <th>availability_365</th>\n",
       "      <th>number_of_reviews_ltm</th>\n",
       "      <th>rating</th>\n",
       "      <th>bedrooms</th>\n",
       "      <th>beds</th>\n",
       "      <th>baths</th>\n",
       "      <th>encoded_Bronx</th>\n",
       "      <th>encoded_Brooklyn</th>\n",
       "      <th>encoded_Manhattan</th>\n",
       "      <th>encoded_Queens</th>\n",
       "      <th>encoded_Staten Island</th>\n",
       "      <th>year</th>\n",
       "      <th>month</th>\n",
       "      <th>day</th>\n",
       "    </tr>\n",
       "  </thead>\n",
       "  <tbody>\n",
       "    <tr>\n",
       "      <th>0</th>\n",
       "      <td>3</td>\n",
       "      <td>144.0</td>\n",
       "      <td>30</td>\n",
       "      <td>9</td>\n",
       "      <td>0.24</td>\n",
       "      <td>139</td>\n",
       "      <td>364</td>\n",
       "      <td>2</td>\n",
       "      <td>4.67</td>\n",
       "      <td>2.0</td>\n",
       "      <td>1</td>\n",
       "      <td>1.0</td>\n",
       "      <td>0</td>\n",
       "      <td>0</td>\n",
       "      <td>1</td>\n",
       "      <td>0</td>\n",
       "      <td>0</td>\n",
       "      <td>2023</td>\n",
       "      <td>5</td>\n",
       "      <td>1</td>\n",
       "    </tr>\n",
       "    <tr>\n",
       "      <th>1</th>\n",
       "      <td>3</td>\n",
       "      <td>187.0</td>\n",
       "      <td>2</td>\n",
       "      <td>6</td>\n",
       "      <td>1.67</td>\n",
       "      <td>1</td>\n",
       "      <td>343</td>\n",
       "      <td>6</td>\n",
       "      <td>4.17</td>\n",
       "      <td>1.0</td>\n",
       "      <td>2</td>\n",
       "      <td>1.0</td>\n",
       "      <td>0</td>\n",
       "      <td>0</td>\n",
       "      <td>1</td>\n",
       "      <td>0</td>\n",
       "      <td>0</td>\n",
       "      <td>2023</td>\n",
       "      <td>12</td>\n",
       "      <td>18</td>\n",
       "    </tr>\n",
       "    <tr>\n",
       "      <th>2</th>\n",
       "      <td>1</td>\n",
       "      <td>120.0</td>\n",
       "      <td>30</td>\n",
       "      <td>156</td>\n",
       "      <td>1.38</td>\n",
       "      <td>2</td>\n",
       "      <td>363</td>\n",
       "      <td>12</td>\n",
       "      <td>4.64</td>\n",
       "      <td>1.0</td>\n",
       "      <td>1</td>\n",
       "      <td>1.0</td>\n",
       "      <td>0</td>\n",
       "      <td>0</td>\n",
       "      <td>1</td>\n",
       "      <td>0</td>\n",
       "      <td>0</td>\n",
       "      <td>2023</td>\n",
       "      <td>9</td>\n",
       "      <td>17</td>\n",
       "    </tr>\n",
       "    <tr>\n",
       "      <th>3</th>\n",
       "      <td>3</td>\n",
       "      <td>85.0</td>\n",
       "      <td>30</td>\n",
       "      <td>11</td>\n",
       "      <td>0.24</td>\n",
       "      <td>133</td>\n",
       "      <td>335</td>\n",
       "      <td>3</td>\n",
       "      <td>4.91</td>\n",
       "      <td>1.5</td>\n",
       "      <td>1</td>\n",
       "      <td>1.0</td>\n",
       "      <td>0</td>\n",
       "      <td>0</td>\n",
       "      <td>1</td>\n",
       "      <td>0</td>\n",
       "      <td>0</td>\n",
       "      <td>2023</td>\n",
       "      <td>12</td>\n",
       "      <td>3</td>\n",
       "    </tr>\n",
       "    <tr>\n",
       "      <th>4</th>\n",
       "      <td>3</td>\n",
       "      <td>115.0</td>\n",
       "      <td>30</td>\n",
       "      <td>5</td>\n",
       "      <td>0.16</td>\n",
       "      <td>139</td>\n",
       "      <td>276</td>\n",
       "      <td>2</td>\n",
       "      <td>5.0</td>\n",
       "      <td>1.0</td>\n",
       "      <td>1</td>\n",
       "      <td>1.0</td>\n",
       "      <td>0</td>\n",
       "      <td>0</td>\n",
       "      <td>1</td>\n",
       "      <td>0</td>\n",
       "      <td>0</td>\n",
       "      <td>2023</td>\n",
       "      <td>7</td>\n",
       "      <td>29</td>\n",
       "    </tr>\n",
       "  </tbody>\n",
       "</table>\n",
       "</div>"
      ],
      "text/plain": [
       "   room_type  price  minimum_nights  number_of_reviews  reviews_per_month  \\\n",
       "0          3  144.0              30                  9               0.24   \n",
       "1          3  187.0               2                  6               1.67   \n",
       "2          1  120.0              30                156               1.38   \n",
       "3          3   85.0              30                 11               0.24   \n",
       "4          3  115.0              30                  5               0.16   \n",
       "\n",
       "   calculated_host_listings_count  availability_365  number_of_reviews_ltm  \\\n",
       "0                             139               364                      2   \n",
       "1                               1               343                      6   \n",
       "2                               2               363                     12   \n",
       "3                             133               335                      3   \n",
       "4                             139               276                      2   \n",
       "\n",
       "  rating  bedrooms  beds  baths  encoded_Bronx  encoded_Brooklyn  \\\n",
       "0  4.67        2.0     1    1.0              0                 0   \n",
       "1  4.17        1.0     2    1.0              0                 0   \n",
       "2  4.64        1.0     1    1.0              0                 0   \n",
       "3  4.91        1.5     1    1.0              0                 0   \n",
       "4   5.0        1.0     1    1.0              0                 0   \n",
       "\n",
       "   encoded_Manhattan  encoded_Queens  encoded_Staten Island  year  month  day  \n",
       "0                  1               0                      0  2023      5    1  \n",
       "1                  1               0                      0  2023     12   18  \n",
       "2                  1               0                      0  2023      9   17  \n",
       "3                  1               0                      0  2023     12    3  \n",
       "4                  1               0                      0  2023      7   29  "
      ]
     },
     "execution_count": 26,
     "metadata": {},
     "output_type": "execute_result"
    }
   ],
   "source": [
    "df['last_review'] = pd.to_datetime(df['last_review'])\n",
    "\n",
    "df['year'] = df['last_review'].dt.year\n",
    "df['month'] = df['last_review'].dt.month\n",
    "df['day'] = df['last_review'].dt.day\n",
    "\n",
    "df.drop(columns=['last_review'], inplace=True)\n",
    "\n",
    "df.head()"
   ]
  },
  {
   "cell_type": "code",
   "execution_count": 27,
   "id": "d816f4a9",
   "metadata": {},
   "outputs": [
    {
     "data": {
      "text/plain": [
       "[<matplotlib.lines.Line2D at 0x19bcad97700>]"
      ]
     },
     "execution_count": 27,
     "metadata": {},
     "output_type": "execute_result"
    },
    {
     "data": {
      "image/png": "[encoded data removed]",
      "text/plain": [
       "<Figure size 432x288 with 1 Axes>"
      ]
     },
     "metadata": {
      "needs_background": "light"
     },
     "output_type": "display_data"
    }
   ],
   "source": [
    "plt.plot(df['price'])"
   ]
  },
  {
   "cell_type": "markdown",
   "id": "8250c9fa",
   "metadata": {},
   "source": [
    "We see that prices contain outliers, let's delete them:"
   ]
  },
  {
   "cell_type": "code",
   "execution_count": 28,
   "id": "17a4a8a0",
   "metadata": {},
   "outputs": [],
   "source": [
    "mean_price = df['price'].mean()\n",
    "std_price = df['price'].std()\n",
    "\n",
    "outliers = df['price'] > mean_price + 2 * std_price\n",
    "\n",
    "df = df[~outliers]\n"
   ]
  },
  {
   "cell_type": "code",
   "execution_count": 29,
   "id": "91398bd8",
   "metadata": {},
   "outputs": [
    {
     "data": {
      "text/plain": [
       "[<matplotlib.lines.Line2D at 0x19bcb31ec70>]"
      ]
     },
     "execution_count": 29,
     "metadata": {},
     "output_type": "execute_result"
    },
    {
     "data": {
      "image/png": "[encoded data removed]",
      "text/plain": [
       "<Figure size 432x288 with 1 Axes>"
      ]
     },
     "metadata": {
      "needs_background": "light"
     },
     "output_type": "display_data"
    }
   ],
   "source": [
    "plt.plot(df['price'])"
   ]
  },
  {
   "cell_type": "markdown",
   "id": "42d1422f",
   "metadata": {},
   "source": [
    "## Strategy 1: fill empty rating with mean"
   ]
  },
  {
   "cell_type": "code",
   "execution_count": 30,
   "id": "51f3bebc",
   "metadata": {},
   "outputs": [],
   "source": [
    "df.loc[df['rating'] == 'New ','rating'] = 'No rating'"
   ]
  },
  {
   "cell_type": "code",
   "execution_count": 31,
   "id": "8914ee2c",
   "metadata": {},
   "outputs": [],
   "source": [
    "df2 = df.copy() # hold a copy for strategy 2\n",
    "\n",
    "mean_rating = df.loc[df['rating']!='No rating','rating'].astype(float).mean()\n",
    "\n",
    "df.loc[df['rating']=='No rating','rating'] = mean_rating\n",
    "\n",
    "df['rating'] = df['rating'].astype(float)"
   ]
  },
  {
   "cell_type": "code",
   "execution_count": 32,
   "id": "55321b3f",
   "metadata": {},
   "outputs": [
    {
     "data": {
      "text/plain": [
       "room_type                           int64\n",
       "price                             float64\n",
       "minimum_nights                      int64\n",
       "number_of_reviews                   int64\n",
       "reviews_per_month                 float64\n",
       "calculated_host_listings_count      int64\n",
       "availability_365                    int64\n",
       "number_of_reviews_ltm               int64\n",
       "rating                            float64\n",
       "bedrooms                          float64\n",
       "beds                                int64\n",
       "baths                             float64\n",
       "encoded_Bronx                       uint8\n",
       "encoded_Brooklyn                    uint8\n",
       "encoded_Manhattan                   uint8\n",
       "encoded_Queens                      uint8\n",
       "encoded_Staten Island               uint8\n",
       "year                                int64\n",
       "month                               int64\n",
       "day                                 int64\n",
       "dtype: object"
      ]
     },
     "execution_count": 32,
     "metadata": {},
     "output_type": "execute_result"
    }
   ],
   "source": [
    "df.dtypes"
   ]
  },
  {
   "cell_type": "markdown",
   "id": "43e4eb10",
   "metadata": {},
   "source": [
    "We are now dealing only with numeric features. Let's look at highly correlated variables:"
   ]
  },
  {
   "cell_type": "code",
   "execution_count": 33,
   "id": "97b3fbac",
   "metadata": {},
   "outputs": [
    {
     "data": {
      "text/plain": [
       "<AxesSubplot:>"
      ]
     },
     "execution_count": 33,
     "metadata": {},
     "output_type": "execute_result"
    },
    {
     "data": {
      "image/png": "[encoded data removed]",
      "text/plain": [
       "<Figure size 432x288 with 2 Axes>"
      ]
     },
     "metadata": {
      "needs_background": "light"
     },
     "output_type": "display_data"
    }
   ],
   "source": [
    "sb.heatmap(df.corr()>.8)"
   ]
  },
  {
   "cell_type": "markdown",
   "id": "63458f55",
   "metadata": {},
   "source": [
    "Number of reviews, as could be expected, correlates with review per month. Let's keep only the first:"
   ]
  },
  {
   "cell_type": "code",
   "execution_count": 34,
   "id": "ebe4f2ae",
   "metadata": {},
   "outputs": [],
   "source": [
    "df = df.drop(columns='reviews_per_month')"
   ]
  },
  {
   "cell_type": "markdown",
   "id": "ea76266b",
   "metadata": {},
   "source": [
    "Normalize data and split them into training and test:"
   ]
  },
  {
   "cell_type": "code",
   "execution_count": 35,
   "id": "067d3925",
   "metadata": {},
   "outputs": [],
   "source": [
    "X = df.drop(columns='price').values\n",
    "\n",
    "y = df['price'].values\n",
    "\n",
    "X_train,X_test,y_train, y_test = train_test_split(X,y,test_size = 0.2 , random_state = 0 ) \n"
   ]
  },
  {
   "cell_type": "code",
   "execution_count": 36,
   "id": "fb8d3352",
   "metadata": {},
   "outputs": [],
   "source": [
    "sc = StandardScaler() \n",
    "X_train = sc.fit_transform(X_train) \n",
    "X_test = sc.transform(X_test) "
   ]
  },
  {
   "cell_type": "markdown",
   "id": "f0b11974",
   "metadata": {},
   "source": [
    "Let's train linear, random forest and XGB models:"
   ]
  },
  {
   "cell_type": "code",
   "execution_count": 37,
   "id": "49849d1f",
   "metadata": {},
   "outputs": [
    {
     "name": "stderr",
     "output_type": "stream",
     "text": [
      "Training models: 100%|██████████| 3/3 [00:12<00:00,  4.09s/it]"
     ]
    },
    {
     "name": "stdout",
     "output_type": "stream",
     "text": [
      " LINEAR REGRESSION:    TRAIN ERROR  18426.940471502985   VALIDATION ERROR     16747.339030547606\n",
      " RANDOM FOREST:    TRAIN ERROR  2092.6896504169326   VALIDATION ERROR     13382.64651162352\n",
      " XGB:    TRAIN ERROR  5132.913494225069   VALIDATION ERROR     13356.590412007245\n"
     ]
    },
    {
     "name": "stderr",
     "output_type": "stream",
     "text": [
      "\n"
     ]
    }
   ],
   "source": [
    "\n",
    "models = [\n",
    "    LinearRegression(),\n",
    "    RandomForestRegressor(),\n",
    "    XGBRegressor()\n",
    "    \n",
    "]\n",
    "\n",
    "mse_train = []\n",
    "mse_test = []\n",
    "predictions = []\n",
    "\n",
    "for model in tqdm(models,desc = 'Training models'):\n",
    "    \n",
    "    model.fit(X_train,y_train)\n",
    "    \n",
    "    predictions.append(model.predict(X_test))\n",
    "    \n",
    "    mse_train.append(mse(model.predict(X_train), y_train))\n",
    "    \n",
    "    mse_test.append(mse(model.predict(X_test), y_test))\n",
    "\n",
    "print(\" LINEAR REGRESSION:    TRAIN ERROR \", mse_train[0], \"  VALIDATION ERROR    \", mse_test[0])\n",
    "print(\" RANDOM FOREST:    TRAIN ERROR \", mse_train[1], \"  VALIDATION ERROR    \", mse_test[1])\n",
    "print(\" XGB:    TRAIN ERROR \", mse_train[2], \"  VALIDATION ERROR    \", mse_test[2])\n",
    "\n"
   ]
  },
  {
   "cell_type": "markdown",
   "id": "13bc101d",
   "metadata": {},
   "source": [
    "XGB (but also random forest) seems to perform better. Let's visualize the absolute errors distribution between predictions and true values:"
   ]
  },
  {
   "cell_type": "code",
   "execution_count": 39,
   "id": "7711c75e",
   "metadata": {},
   "outputs": [
    {
     "name": "stdout",
     "output_type": "stream",
     "text": [
      "[  95. 1200.   37.   71.   50.  470.   59.   46.  153.   90.  165.   98.\n",
      "   97.  130.  105.   40.  109.  200.  271.  300.   89.  495.   65.   50.\n",
      "   65.  122.  105.  147.   65.  120.]\n",
      "[103.2395   794.19763   30.615894  88.13074   51.204777 282.19684\n",
      "  87.73967   83.3106   148.88313  168.5317   525.174     88.27621\n",
      " 135.74286  149.46294  187.33197  121.87924   95.88448  212.6462\n",
      " 373.43307  305.79175   93.3558   243.5887    75.28634   92.10541\n",
      " 149.24124  240.35738  203.3563   116.786026  64.52799  147.73384 ]\n"
     ]
    }
   ],
   "source": [
    "\n",
    "print(y_test[0:30])\n",
    "print(predictions[2][0:30])\n"
   ]
  },
  {
   "cell_type": "code",
   "execution_count": 46,
   "id": "94ac16d0",
   "metadata": {},
   "outputs": [
    {
     "data": {
      "image/png": "[encoded data removed]",
      "text/plain": [
       "<Figure size 576x432 with 1 Axes>"
      ]
     },
     "metadata": {
      "needs_background": "light"
     },
     "output_type": "display_data"
    }
   ],
   "source": [
    "plt.figure(figsize=(8, 6))\n",
    "plt.hist(abs(y_test - predictions[2]), bins=100, color='skyblue', edgecolor='black')\n",
    "\n",
    "plt.title('Distribution of Absolute Errors')\n",
    "plt.xlabel('MAE')\n",
    "plt.ylabel('Frequency')\n",
    "plt.grid(axis='y', alpha=0.5)\n",
    "plt.grid(axis='x', linestyle='--', alpha=0.5)\n",
    "\n",
    "plt.show()"
   ]
  },
  {
   "cell_type": "markdown",
   "id": "549253fb",
   "metadata": {},
   "source": [
    "## Strategy 2: fill empty rating using KNN"
   ]
  },
  {
   "cell_type": "markdown",
   "id": "1135cabc",
   "metadata": {},
   "source": [
    "Now, we use KNN to infer the rating based on other features, and then use such ratings in the dataset"
   ]
  },
  {
   "cell_type": "code",
   "execution_count": 57,
   "id": "592d3e92",
   "metadata": {},
   "outputs": [
    {
     "name": "stderr",
     "output_type": "stream",
     "text": [
      "C:\\Users\\Fabrizio\\AppData\\Local\\Temp\\ipykernel_1192\\2626598171.py:4: SettingWithCopyWarning: \n",
      "A value is trying to be set on a copy of a slice from a DataFrame.\n",
      "Try using .loc[row_indexer,col_indexer] = value instead\n",
      "\n",
      "See the caveats in the documentation: https://pandas.pydata.org/pandas-docs/stable/user_guide/indexing.html#returning-a-view-versus-a-copy\n",
      "  df2_training['rating'] = df2_training['rating'].astype(float)\n"
     ]
    }
   ],
   "source": [
    "from sklearn.neighbors import KNeighborsRegressor\n",
    "\n",
    "df2_training = df2[df2['rating']!='No rating']\n",
    "df2_training['rating'] = df2_training['rating'].astype(float)\n",
    "X_train_KNN = df2_training.drop(columns=['rating'])  \n",
    "y_train_KNN = df2_training['rating']\n",
    "\n",
    "knn_model = KNeighborsRegressor(n_neighbors=5)  \n",
    "knn_model.fit(X_train_KNN, y_train_KNN)\n",
    "\n",
    "df2_test = df2[df2['rating']=='No rating']\n",
    "\n",
    "X_predict = df2_test.drop(columns=['rating'])\n",
    "\n",
    "predicted_rating = knn_model.predict(X_predict)"
   ]
  },
  {
   "cell_type": "code",
   "execution_count": 61,
   "id": "d2226438",
   "metadata": {},
   "outputs": [],
   "source": [
    "df2.loc[df2['rating']=='No rating','rating'] = predicted_rating"
   ]
  },
  {
   "cell_type": "markdown",
   "id": "1a86bc8c",
   "metadata": {},
   "source": [
    "Let's do the same as before:"
   ]
  },
  {
   "cell_type": "code",
   "execution_count": 62,
   "id": "fba92a09",
   "metadata": {},
   "outputs": [
    {
     "name": "stderr",
     "output_type": "stream",
     "text": [
      "Training models: 100%|██████████| 3/3 [00:11<00:00,  3.77s/it]"
     ]
    },
    {
     "name": "stdout",
     "output_type": "stream",
     "text": [
      " LINEAR REGRESSION:    TRAIN ERROR  18337.472295836356   VALIDATION ERROR     16668.98720662237\n",
      " RANDOM FOREST:    TRAIN ERROR  2105.5339962553603   VALIDATION ERROR     13685.910170241546\n",
      " XGB:    TRAIN ERROR  5015.357378977696   VALIDATION ERROR     12753.426357347967\n"
     ]
    },
    {
     "name": "stderr",
     "output_type": "stream",
     "text": [
      "\n"
     ]
    }
   ],
   "source": [
    "df2 = df2.drop(columns='reviews_per_month')\n",
    "\n",
    "X = df2.drop(columns='price').values\n",
    "\n",
    "y = df2['price'].values\n",
    "\n",
    "X_train,X_test,y_train, y_test = train_test_split(X,y,test_size = 0.2 , random_state = 0 ) \n",
    "\n",
    "sc = StandardScaler() \n",
    "X_train = sc.fit_transform(X_train) \n",
    "X_test = sc.transform(X_test) \n",
    "\n",
    "\n",
    "models = [\n",
    "    LinearRegression(),\n",
    "    RandomForestRegressor(),\n",
    "    XGBRegressor()\n",
    "    \n",
    "]\n",
    "\n",
    "mse_train = []\n",
    "mse_test = []\n",
    "predictions = []\n",
    "\n",
    "for model in tqdm(models,desc = 'Training models'):\n",
    "    \n",
    "    model.fit(X_train,y_train)\n",
    "    \n",
    "    predictions.append(model.predict(X_test))\n",
    "    \n",
    "    mse_train.append(mse(model.predict(X_train), y_train))\n",
    "    \n",
    "    mse_test.append(mse(model.predict(X_test), y_test))\n",
    "\n",
    "print(\" LINEAR REGRESSION:    TRAIN ERROR \", mse_train[0], \"  VALIDATION ERROR    \", mse_test[0])\n",
    "print(\" RANDOM FOREST:    TRAIN ERROR \", mse_train[1], \"  VALIDATION ERROR    \", mse_test[1])\n",
    "print(\" XGB:    TRAIN ERROR \", mse_train[2], \"  VALIDATION ERROR    \", mse_test[2])\n",
    "\n"
   ]
  },
  {
   "cell_type": "code",
   "execution_count": 63,
   "id": "852e0298",
   "metadata": {},
   "outputs": [
    {
     "data": {
      "image/png": "[encoded data removed]",
      "text/plain": [
       "<Figure size 576x432 with 1 Axes>"
      ]
     },
     "metadata": {
      "needs_background": "light"
     },
     "output_type": "display_data"
    }
   ],
   "source": [
    "plt.figure(figsize=(8, 6))\n",
    "plt.hist(abs(y_test - predictions[2]), bins=100, color='skyblue', edgecolor='black')\n",
    "\n",
    "plt.title('Distribution of Absolute Errors')\n",
    "plt.xlabel('MAE')\n",
    "plt.ylabel('Frequency')\n",
    "plt.grid(axis='y', alpha=0.5)\n",
    "plt.grid(axis='x', linestyle='--', alpha=0.5)\n",
    "\n",
    "plt.show()"
   ]
  },
  {
   "cell_type": "markdown",
   "id": "e71b093c",
   "metadata": {},
   "source": [
    "**Conclusion**: the best model, XGB, performs slightly better in the second scenario"
   ]
  },
  {
   "cell_type": "code",
   "execution_count": null,
   "id": "ebf63dc1",
   "metadata": {},
   "outputs": [],
   "source": []
  }
 ],
 "metadata": {
  "kernelspec": {
   "display_name": "Python 3 (ipykernel)",
   "language": "python",
   "name": "python3"
  },
  "language_info": {
   "codemirror_mode": {
    "name": "ipython",
    "version": 3
   },
   "file_extension": ".py",
   "mimetype": "text/x-python",
   "name": "python",
   "nbconvert_exporter": "python",
   "pygments_lexer": "ipython3",
   "version": "3.9.12"
  }
 },
 "nbformat": 4,
 "nbformat_minor": 5
}
